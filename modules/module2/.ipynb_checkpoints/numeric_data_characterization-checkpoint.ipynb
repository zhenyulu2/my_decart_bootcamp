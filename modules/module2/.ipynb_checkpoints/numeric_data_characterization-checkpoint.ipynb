{
 "cells": [
  {
   "cell_type": "markdown",
   "metadata": {},
   "source": [
    "<html>\n",
    "<table width=\"100%\" cellspacing=\"2\" cellpadding=\"2\" border=\"1\">\n",
    "<tbody>\n",
    "<tr>\n",
    "<td valign=\"center\" align=\"center\" width=\"25%\"><img src=\"../../media/decartes.jpg\"\n",
    "alt=\"DeCART Icon\" width=\"128\" height=\"171\"><br>\n",
    "</td>\n",
    "<td valign=\"center\" align=\"center\" width=\"75%\">\n",
    "<h1 align=\"center\"><font size=\"+3\">DeCART Summer School<br>\n",
    "for<br>\n",
    "Biomedical Data Science</font></h1></td>\n",
    "<td valign=\"center\" align=\"center\" width=\"25%\"><img\n",
    "src=\"../../media/U_Health_stacked_png_red.png\" alt=\"Utah Health\n",
    "Logo\" width=\"128\" height=\"134\"><br>\n",
    "</td>\n",
    "</tr>\n",
    "</tbody>\n",
    "</table>\n",
    "<br>\n",
    "</html>\n",
    "\n",
    "# Basic Numeric Data Characterization\n",
    "\n",
    "Numpy provides a number of functions/methods for characterizing "
   ]
  },
  {
   "cell_type": "code",
   "execution_count": 1,
   "metadata": {},
   "outputs": [
    {
     "ename": "ImportError",
     "evalue": "No module named 'utils'",
     "output_type": "error",
     "traceback": [
      "\u001b[0;31m---------------------------------------------------------------------------\u001b[0m",
      "\u001b[0;31mImportError\u001b[0m                               Traceback (most recent call last)",
      "\u001b[0;32m<ipython-input-1-5876a9cc8ae4>\u001b[0m in \u001b[0;36m<module>\u001b[0;34m()\u001b[0m\n\u001b[1;32m      1\u001b[0m \u001b[0;32mimport\u001b[0m \u001b[0mos\u001b[0m\u001b[0;34m\u001b[0m\u001b[0m\n\u001b[1;32m      2\u001b[0m \u001b[0;32mimport\u001b[0m \u001b[0mnumpy\u001b[0m \u001b[0;32mas\u001b[0m \u001b[0mnp\u001b[0m\u001b[0;34m\u001b[0m\u001b[0m\n\u001b[0;32m----> 3\u001b[0;31m \u001b[0;32mimport\u001b[0m \u001b[0mutils\u001b[0m\u001b[0;34m\u001b[0m\u001b[0m\n\u001b[0m\u001b[1;32m      4\u001b[0m \u001b[0;32mimport\u001b[0m \u001b[0mnumpy\u001b[0m\u001b[0;34m.\u001b[0m\u001b[0mrandom\u001b[0m \u001b[0;32mas\u001b[0m \u001b[0mra\u001b[0m\u001b[0;34m\u001b[0m\u001b[0m\n\u001b[1;32m      5\u001b[0m \u001b[0;32mimport\u001b[0m \u001b[0mpandas\u001b[0m \u001b[0;32mas\u001b[0m \u001b[0mpd\u001b[0m\u001b[0;34m\u001b[0m\u001b[0m\n",
      "\u001b[0;31mImportError\u001b[0m: No module named 'utils'"
     ]
    }
   ],
   "source": [
    "import os\n",
    "import numpy as np\n",
    "import utils\n",
    "import numpy.random as ra\n",
    "import pandas as pd"
   ]
  },
  {
   "cell_type": "code",
   "execution_count": 2,
   "metadata": {
    "collapsed": true
   },
   "outputs": [],
   "source": [
    "from quizzes.characterizing_numeric_data import *"
   ]
  },
  {
   "cell_type": "code",
   "execution_count": null,
   "metadata": {
    "collapsed": true
   },
   "outputs": [],
   "source": [
    "pd.__version__"
   ]
  },
  {
   "cell_type": "code",
   "execution_count": null,
   "metadata": {
    "collapsed": true
   },
   "outputs": [],
   "source": [
    "DATADIR = os.path.join(os.path.expanduser(\"~\"),\"DATA\")\n",
    "HRDIR = os.path.join(DATADIR,\"Numerics\", \"mimic2\", \"hr\", \"subjects\")\n",
    "BPDIR = os.path.join(DATADIR,\"Numerics\", \"mimic2\", \"bp\", \"subjects\")\n",
    "\n",
    "hr_files = os.listdir(HRDIR)"
   ]
  },
  {
   "cell_type": "markdown",
   "metadata": {},
   "source": [
    "## Heart Rate file for patient ``3325``\n",
    "\n",
    "We are going to start with using [Pandas](http://pandas.pydata.org/) to read, summarize, and visualize numeric data. We are going to start with the MIMIC2 patient ``#3325``. This is what the first five lines of the file looks like (You can explore this in the Linux shell with less, more, or cat.\n",
    "\n",
    "```Python\n",
    "88\n",
    "84\n",
    "87\n",
    "78\n",
    "85\n",
    "```\n",
    "\n",
    "Pandas has two basic functions for reading in tabular data: [``read_table``](https://pandas.pydata.org/pandas-docs/stable/generated/pandas.read_table.html) and [``read_csv``](https://pandas.pydata.org/pandas-docs/stable/generat\n",
    "\n",
    "ed/pandas.read_csv.html). They are really the smae function with different default values for the delimiter, the character that is used to separate the data on each row: (a tab (``\\t``) character for ``read_table`` and a comma (``,``) for ``read_csv``. We will use ``read_table`` to read in the heart rate values.\n",
    "\n",
    "Both of these functions swill return a [Pandas DataFrame](https://pandas.pydata.org/pandas-docs/stable/generated/pandas.DataFrame.html) which is a\n",
    ">Two-dimensional size-mutable, potentially heterogeneous tabular data structure with labeled axes (rows and columns). \n",
    "\n",
    "Going back to an earlier analogy, a data structure is a complex molecule of data. \n",
    "\n",
    "A Pandas DataFrame is an object (everything is an object), and so it has attributes and methods. Two of the methods we will use right off the bat are\n",
    "\n",
    "* [``head()``](https://pandas.pydata.org/pandas-docs/stable/generated/pandas.DataFrame.head.html#pandas.DataFrame.head)\n",
    "* [``tail()``](https://pandas.pydata.org/pandas-docs/stable/generated/pandas.DataFrame.tail.html#pandas.DataFrame.tail)\n",
    "\n",
    "which return the first (last) n (default=5) rows of the DataFrame.\n",
    "\n",
    "### Read in the data and look at the head"
   ]
  },
  {
   "cell_type": "code",
   "execution_count": null,
   "metadata": {
    "collapsed": true
   },
   "outputs": [],
   "source": [
    "\n",
    "hr = pd.read_table(os.path.join(HRDIR,'3235.txt'))\n",
    "hr.head()"
   ]
  },
  {
   "cell_type": "markdown",
   "metadata": {},
   "source": [
    "The DataFrame provides an **index** for each row (e.g. $0, 1, 2, \\cdots$). It will also display the label (name) for each column.\n",
    "\n",
    "### Does anything seem wrong?"
   ]
  },
  {
   "cell_type": "code",
   "execution_count": null,
   "metadata": {
    "collapsed": true
   },
   "outputs": [],
   "source": [
    "hr.shape, hr.size"
   ]
  },
  {
   "cell_type": "markdown",
   "metadata": {},
   "source": [
    "### Reread the data, specifying what to use for the header"
   ]
  },
  {
   "cell_type": "code",
   "execution_count": null,
   "metadata": {
    "collapsed": true
   },
   "outputs": [],
   "source": [
    "hr = pd.read_table(os.path.join(HRDIR,'3235.txt'), header=None)\n",
    "hr.head()"
   ]
  },
  {
   "cell_type": "markdown",
   "metadata": {},
   "source": [
    "This looks better but zero for a column label/name is not very meaningful. We can provide names to use for the columns with a ``names`` keyword argument.\n",
    "\n",
    "### Reread the data providing a name for the heart rate column"
   ]
  },
  {
   "cell_type": "code",
   "execution_count": null,
   "metadata": {
    "collapsed": true
   },
   "outputs": [],
   "source": [
    "hr = pd.read_table(os.path.join(HRDIR,'3235.txt'), header=None, names=[\"heart_rate\",])\n",
    "hr.head()"
   ]
  },
  {
   "cell_type": "markdown",
   "metadata": {},
   "source": [
    "### DataFrame Attributes\n",
    "\n",
    "DataFrames have attributes that describe it, including\n",
    "\n",
    "* ``shape``: shape of the frame\n",
    "* ``size``: total number of elements in the frame\n",
    "* ``dtypes``: the data types for each column in the frame"
   ]
  },
  {
   "cell_type": "code",
   "execution_count": null,
   "metadata": {
    "collapsed": true
   },
   "outputs": [],
   "source": [
    "print(hr.shape, hr.size)\n",
    "print(hr.dtypes)"
   ]
  },
  {
   "cell_type": "markdown",
   "metadata": {},
   "source": [
    "## Exercise\n",
    "\n",
    "Use the Pandas ``read_table``function to read in the blood pressure data for the same patient (``3235``). Answer the following questions:\n",
    "\n",
    "1. How many rows are in the blood pressure data frame?\n",
    "1. What data type (e.g. np.uint8) is used for the first column (systolic) of measurements?"
   ]
  },
  {
   "cell_type": "code",
   "execution_count": null,
   "metadata": {
    "collapsed": true
   },
   "outputs": [],
   "source": [
    "\n",
    "data_shape(replace_me_with_the_number_of_rows)"
   ]
  },
  {
   "cell_type": "code",
   "execution_count": null,
   "metadata": {
    "collapsed": true
   },
   "outputs": [],
   "source": []
  },
  {
   "cell_type": "markdown",
   "metadata": {},
   "source": [
    "#### Compute summary statistics\n",
    "\n",
    "We can compute summary statistics on a Pandas DataFrame or Series using either a numpy function or a method of the DataFrame or Series.\n",
    "\n",
    "### How do we know what numpy functions are defined or what methods a DataFrame has?"
   ]
  },
  {
   "cell_type": "code",
   "execution_count": null,
   "metadata": {
    "collapsed": true
   },
   "outputs": [],
   "source": [
    "print(hr.max())"
   ]
  },
  {
   "cell_type": "code",
   "execution_count": null,
   "metadata": {
    "collapsed": true
   },
   "outputs": [],
   "source": [
    "np.max(hr)"
   ]
  },
  {
   "cell_type": "code",
   "execution_count": null,
   "metadata": {
    "collapsed": true
   },
   "outputs": [],
   "source": [
    "np.max(hr[\"heart_rate\"])"
   ]
  },
  {
   "cell_type": "code",
   "execution_count": null,
   "metadata": {
    "collapsed": true
   },
   "outputs": [],
   "source": [
    "hr[\"heart_rate\"].max()"
   ]
  },
  {
   "cell_type": "markdown",
   "metadata": {},
   "source": [
    "## Exercise\n",
    "\n",
    "What is the median value of the diastolic blood pressure for patient 3235?"
   ]
  },
  {
   "cell_type": "code",
   "execution_count": null,
   "metadata": {
    "collapsed": true
   },
   "outputs": [],
   "source": [
    "media_diastolic(replace_me_with_median_value)"
   ]
  },
  {
   "cell_type": "markdown",
   "metadata": {},
   "source": [
    "## Exercise\n",
    "\n",
    "To explore equality of floating point numbers, perturb your answer by adding ``0.1``, ``0.01``, etc. until your perturbed answer is considered equal."
   ]
  },
  {
   "cell_type": "code",
   "execution_count": null,
   "metadata": {
    "collapsed": true
   },
   "outputs": [],
   "source": [
    "media_diastolic(replace_me_with_median_value + 0.1)"
   ]
  },
  {
   "cell_type": "markdown",
   "metadata": {},
   "source": [
    "## [``describe()``](https://pandas.pydata.org/pandas-docs/stable/generated/pandas.DataFrame.describe.html)\n",
    "\n",
    "Pandas DataFrames (Series) come with a ``describe()`` method that provides summary statistics."
   ]
  },
  {
   "cell_type": "code",
   "execution_count": null,
   "metadata": {
    "collapsed": true
   },
   "outputs": [],
   "source": [
    "hr.describe()"
   ]
  },
  {
   "cell_type": "markdown",
   "metadata": {},
   "source": [
    "## Creating a New Column\n",
    "\n",
    "We can create a new column in the DataFrame with a simple assignment statement:"
   ]
  },
  {
   "cell_type": "code",
   "execution_count": null,
   "metadata": {
    "collapsed": true
   },
   "outputs": [],
   "source": [
    "hr[\"one\"] = 1\n",
    "hr[\"range\"] = range(len(hr))\n",
    "hr[\"inverse range\"] = range(len(hr),0, -1)\n",
    "hr.head()"
   ]
  },
  {
   "cell_type": "markdown",
   "metadata": {},
   "source": [
    "We can also create a new column based on a function of the existing columns.\n",
    "\n",
    "We can do this in two ways\n",
    "\n",
    "### Method 1"
   ]
  },
  {
   "cell_type": "code",
   "execution_count": null,
   "metadata": {
    "collapsed": true
   },
   "outputs": [],
   "source": [
    "hr[\"range_diff\"] = hr[\"inverse range\"] - hr[\"range\"]\n",
    "hr.head()"
   ]
  },
  {
   "cell_type": "markdown",
   "metadata": {},
   "source": [
    "### Method 2\n",
    "\n",
    "Our second method uses the [``apply()``]() method and an [**anonymous function**](https://docs.python.org/3/tutorial/controlflow.html#lambda-expressions). We could have defined the function previously instead.\n",
    "\n",
    "#### Anonymous Functions\n",
    "\n",
    "The syntax for anonymous functions is as follows:\n",
    "\n",
    "```Python\n",
    "lambda variable: some_function_of_the_variable\n",
    "```\n",
    "\n",
    "So an anonymous doubling function would be\n",
    "\n",
    "```Python\n",
    "lambda x: 2*x\n",
    "```\n",
    "\n",
    "Here is an anonymous function that returns the upper case version of a string\n",
    "\n",
    "```Python\n",
    "lambda y: y.upper()\n",
    "```\n",
    "\n",
    "#### Pandas ``apply()``\n",
    "\n",
    "* ``apply()`` applies a function to each element in the DataFrame (Series)\n",
    "* We specify whether we want to apply the function by columns or rows by specifying the keyword argument ``axis`` (which defaults to 0 for columns)\n",
    "* When we apply by rows, we get a variable that contains each row; we can access specific columns within the row"
   ]
  },
  {
   "cell_type": "code",
   "execution_count": null,
   "metadata": {
    "collapsed": true
   },
   "outputs": [],
   "source": [
    "hr[\"range_diff2\"] = hr.apply(lambda  row: row[\"range_diff\"] - row[\"range\"], axis=1)\n",
    "hr.head()"
   ]
  },
  {
   "cell_type": "markdown",
   "metadata": {},
   "source": [
    "## Exercise:\n",
    "\n",
    "[Data standardization](http://scikit-learn.org/stable/modules/preprocessing.html) transforms numeric data ($x$) by subtracting the mean ($\\mu_x$) and dividing by the standard deviation ($\\sigma_x$):\n",
    "\n",
    "$$\\tilde{x} = \\frac{x-\\mu_x}{\\sigma_x}$$\n",
    "\n",
    "Read in one of the heart rate data files and compute the standardized form of the data. Assign this normalized heart rate to the DataFrame with a label of **\"normalized hr\"**."
   ]
  },
  {
   "cell_type": "code",
   "execution_count": null,
   "metadata": {
    "collapsed": true
   },
   "outputs": [],
   "source": []
  },
  {
   "cell_type": "markdown",
   "metadata": {},
   "source": [
    "## Exercise\n",
    "\n",
    "\n",
    "The student's t-test is often used to comapre two populations. Using ``len``, ``math.sqrt`` and numpy methods/functions compute the [t value](https://en.wikipedia.org/wiki/Student%27s_t-test#Independent_two-sample_t-test) for two files.\n",
    "\n",
    "$$t = \\frac{\\bar{{X_1}}-\\bar{X_2}}{s_{X_1X_2}\\sqrt{\\frac{1}{n_1}+\\frac{1}{n_2}}}$$ where\n",
    "$$s_{X_1X_2} = \\sqrt{\\frac{(n_1-1)s_{X_1}^2 + (n_2-1)s_{X_2}^2}{n_1+n_2-2}}$$.\n",
    "1. Pick two heart rate files and comptue the t value for the two files."
   ]
  },
  {
   "cell_type": "code",
   "execution_count": null,
   "metadata": {
    "collapsed": true
   },
   "outputs": [],
   "source": []
  },
  {
   "cell_type": "markdown",
   "metadata": {},
   "source": [
    "<a rel=\"license\" href=\"http://creativecommons.org/licenses/by-nc-sa/4.0/\"><img alt=\"Creative Commons License\" style=\"border-width:0\" src=\"https://i.creativecommons.org/l/by-nc-sa/4.0/88x31.png\" /></a><br /><span xmlns:dct=\"http://purl.org/dc/terms/\" property=\"dct:title\">University of Uah Data Science for Health</span> by <span xmlns:cc=\"http://creativecommons.org/ns#\" property=\"cc:attributionName\">Brian E. Chapman</span> is licensed under a <a rel=\"license\" href=\"http://creativecommons.org/licenses/by-nc-sa/4.0/\">Creative Commons Attribution-NonCommercial-ShareAlike 4.0 International License</a>."
   ]
  }
 ],
 "metadata": {
  "kernelspec": {
   "display_name": "Python 3",
   "language": "python",
   "name": "python3"
  },
  "language_info": {
   "codemirror_mode": {
    "name": "ipython",
    "version": 3
   },
   "file_extension": ".py",
   "mimetype": "text/x-python",
   "name": "python",
   "nbconvert_exporter": "python",
   "pygments_lexer": "ipython3",
   "version": "3.5.2"
  }
 },
 "nbformat": 4,
 "nbformat_minor": 1
}
