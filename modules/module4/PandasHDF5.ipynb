{
 "cells": [
  {
   "cell_type": "markdown",
   "metadata": {},
   "source": [
    "# [Pandas](http://pandas.pydata.org/)"
   ]
  },
  {
   "cell_type": "code",
   "execution_count": 1,
   "metadata": {
    "collapsed": true
   },
   "outputs": [],
   "source": [
    "% matplotlib inline"
   ]
  },
  {
   "cell_type": "code",
   "execution_count": 2,
   "metadata": {},
   "outputs": [
    {
     "name": "stdout",
     "output_type": "stream",
     "text": [
      "True\n"
     ]
    }
   ],
   "source": [
    "import os\n",
    "import shutil\n",
    "import glob\n",
    "import sqlite3 as sqlite\n",
    "DATADIR = os.path.join(os.path.expanduser(\"~\"),\"DATA\")\n",
    "print(os.path.exists(DATADIR))"
   ]
  },
  {
   "cell_type": "code",
   "execution_count": 3,
   "metadata": {
    "collapsed": true
   },
   "outputs": [],
   "source": [
    "import pandas as pd"
   ]
  },
  {
   "cell_type": "markdown",
   "metadata": {},
   "source": [
    "## Reading/Writing Text Data with  Pandas"
   ]
  },
  {
   "cell_type": "markdown",
   "metadata": {},
   "source": [
    "## Pandas and HDF5\n",
    "\n",
    "* HDF5 is a high performance binary data format written in C\n",
    "* HDF5 facilitates a number of performance enhancements such as being able to access parts of the data without having to read into memory the whole dataset\n",
    "* Python has too different packages provide an HDF5 interface\n",
    "    * [h5py](http://www.h5py.org/)\n",
    "    * [pytables](http://www.pytables.org/moin)\n",
    "* Pandas uses pytables to interface with hdf5\n"
   ]
  },
  {
   "cell_type": "code",
   "execution_count": 4,
   "metadata": {},
   "outputs": [
    {
     "name": "stdout",
     "output_type": "stream",
     "text": [
      "-rwxr-xr-x 1 root root 839788724 Jun 21  2016 /home/jovyan/DATA/Bioinf/PANCAN12.IlluminaHiSeq_RNASeqV2.geneExp.tumor_whitelist\n",
      "-rwxr-xr-x 1 root root 538029908 Jun 21  2016 /home/jovyan/DATA/Bioinf/PANCAN12.IlluminaHiSeq_RNASeqV2.geneExp.tumor_whitelist.hdf5\n"
     ]
    }
   ],
   "source": [
    "%%bash\n",
    "ls -ltra ~/DATA/Bioinf/PAN*"
   ]
  },
  {
   "cell_type": "code",
   "execution_count": 5,
   "metadata": {},
   "outputs": [
    {
     "name": "stdout",
     "output_type": "stream",
     "text": [
      "33.9 s ± 0 ns per loop (mean ± std. dev. of 1 run, 1 loop each)\n"
     ]
    }
   ],
   "source": [
    "url = os.path.join(DATADIR, \"Bioinf\",\n",
    " \"PANCAN12.IlluminaHiSeq_RNASeqV2.geneExp.tumor_whitelist\")\n",
    "time_csv = %timeit -o -r 1 pd.read_table(url)"
   ]
  },
  {
   "cell_type": "code",
   "execution_count": 6,
   "metadata": {},
   "outputs": [
    {
     "name": "stdout",
     "output_type": "stream",
     "text": [
      "Opening /home/jovyan/DATA/Bioinf/PANCAN12.IlluminaHiSeq_RNASeqV2.geneExp.tumor_whitelist.hdf5 in read-only mode\n",
      "Opening /home/jovyan/DATA/Bioinf/PANCAN12.IlluminaHiSeq_RNASeqV2.geneExp.tumor_whitelist.hdf5 in read-only mode\n",
      "298 ms ± 0 ns per loop (mean ± std. dev. of 1 run, 1 loop each)\n"
     ]
    }
   ],
   "source": [
    "url = os.path.join(DATADIR, \"Bioinf\",\n",
    " \"PANCAN12.IlluminaHiSeq_RNASeqV2.geneExp.tumor_whitelist.hdf5\")\n",
    "time_hdf5 = %timeit -o -r 1 pd.read_hdf(url)"
   ]
  },
  {
   "cell_type": "code",
   "execution_count": 7,
   "metadata": {},
   "outputs": [
    {
     "data": {
      "text/plain": [
       "113.47131368246826"
      ]
     },
     "execution_count": 7,
     "metadata": {},
     "output_type": "execute_result"
    }
   ],
   "source": [
    "time_csv.best / time_hdf5.best"
   ]
  },
  {
   "cell_type": "code",
   "execution_count": null,
   "metadata": {
    "collapsed": true
   },
   "outputs": [],
   "source": []
  }
 ],
 "metadata": {
  "kernelspec": {
   "display_name": "Python 3",
   "language": "python",
   "name": "python3"
  },
  "language_info": {
   "codemirror_mode": {
    "name": "ipython",
    "version": 3
   },
   "file_extension": ".py",
   "mimetype": "text/x-python",
   "name": "python",
   "nbconvert_exporter": "python",
   "pygments_lexer": "ipython3",
   "version": "3.5.2"
  }
 },
 "nbformat": 4,
 "nbformat_minor": 1
}
