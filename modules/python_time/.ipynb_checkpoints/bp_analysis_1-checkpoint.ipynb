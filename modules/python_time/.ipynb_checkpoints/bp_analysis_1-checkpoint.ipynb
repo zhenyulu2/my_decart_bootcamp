{
 "cells": [
  {
   "cell_type": "markdown",
   "metadata": {},
   "source": [
    "# Analyzing OR Blood Pressure Measurements"
   ]
  },
  {
   "cell_type": "code",
   "execution_count": 1,
   "metadata": {
    "collapsed": true
   },
   "outputs": [],
   "source": [
    "%matplotlib inline"
   ]
  },
  {
   "cell_type": "code",
   "execution_count": 2,
   "metadata": {},
   "outputs": [
    {
     "data": {
      "text/plain": [
       "True"
      ]
     },
     "execution_count": 2,
     "metadata": {},
     "output_type": "execute_result"
    }
   ],
   "source": [
    "import pandas as pd\n",
    "import os\n",
    "import time\n",
    "import datetime\n",
    "import numpy as np\n",
    "DATADIR = os.path.join(os.path.expanduser('~'),\"DATA\", \"TimeSeries\", \"UofUData\")\n",
    "os.path.exists(DATADIR)"
   ]
  },
  {
   "cell_type": "code",
   "execution_count": 3,
   "metadata": {
    "collapsed": true
   },
   "outputs": [],
   "source": [
    "data = pd.read_csv(os.path.join(DATADIR,\"data_all.csv\"), nrows=1000)"
   ]
  },
  {
   "cell_type": "code",
   "execution_count": 4,
   "metadata": {},
   "outputs": [
    {
     "data": {
      "text/html": [
       "<div>\n",
       "<table border=\"1\" class=\"dataframe\">\n",
       "  <thead>\n",
       "    <tr style=\"text-align: right;\">\n",
       "      <th></th>\n",
       "      <th>Unnamed: 0</th>\n",
       "      <th>VirtualCaseID</th>\n",
       "      <th>VirtualPatientID</th>\n",
       "      <th>AIMS_Patient_Age_Years</th>\n",
       "      <th>AIMS_sex</th>\n",
       "      <th>Numeric_Proced_Code</th>\n",
       "      <th>VirtualDateTime</th>\n",
       "      <th>noninvDIA</th>\n",
       "      <th>noninvMAP</th>\n",
       "      <th>noninvSYS</th>\n",
       "      <th>invDIA</th>\n",
       "      <th>invMAP</th>\n",
       "      <th>invSYS</th>\n",
       "    </tr>\n",
       "  </thead>\n",
       "  <tbody>\n",
       "    <tr>\n",
       "      <th>0</th>\n",
       "      <td>1</td>\n",
       "      <td>10349</td>\n",
       "      <td>8114</td>\n",
       "      <td>50</td>\n",
       "      <td>F</td>\n",
       "      <td>99232.0</td>\n",
       "      <td>1986-01-18 11:38:00</td>\n",
       "      <td>NaN</td>\n",
       "      <td>NaN</td>\n",
       "      <td>NaN</td>\n",
       "      <td>40</td>\n",
       "      <td>70</td>\n",
       "      <td>84</td>\n",
       "    </tr>\n",
       "    <tr>\n",
       "      <th>1</th>\n",
       "      <td>2</td>\n",
       "      <td>10349</td>\n",
       "      <td>8114</td>\n",
       "      <td>50</td>\n",
       "      <td>F</td>\n",
       "      <td>99232.0</td>\n",
       "      <td>1986-01-18 11:39:00</td>\n",
       "      <td>NaN</td>\n",
       "      <td>NaN</td>\n",
       "      <td>NaN</td>\n",
       "      <td>56</td>\n",
       "      <td>73</td>\n",
       "      <td>93</td>\n",
       "    </tr>\n",
       "    <tr>\n",
       "      <th>2</th>\n",
       "      <td>3</td>\n",
       "      <td>10349</td>\n",
       "      <td>8114</td>\n",
       "      <td>50</td>\n",
       "      <td>F</td>\n",
       "      <td>99232.0</td>\n",
       "      <td>1986-01-18 11:40:00</td>\n",
       "      <td>64.0</td>\n",
       "      <td>77.0</td>\n",
       "      <td>96.0</td>\n",
       "      <td>55</td>\n",
       "      <td>72</td>\n",
       "      <td>97</td>\n",
       "    </tr>\n",
       "    <tr>\n",
       "      <th>3</th>\n",
       "      <td>4</td>\n",
       "      <td>10349</td>\n",
       "      <td>8114</td>\n",
       "      <td>50</td>\n",
       "      <td>F</td>\n",
       "      <td>99232.0</td>\n",
       "      <td>1986-01-18 11:41:00</td>\n",
       "      <td>NaN</td>\n",
       "      <td>NaN</td>\n",
       "      <td>NaN</td>\n",
       "      <td>63</td>\n",
       "      <td>82</td>\n",
       "      <td>109</td>\n",
       "    </tr>\n",
       "    <tr>\n",
       "      <th>4</th>\n",
       "      <td>5</td>\n",
       "      <td>10349</td>\n",
       "      <td>8114</td>\n",
       "      <td>50</td>\n",
       "      <td>F</td>\n",
       "      <td>99232.0</td>\n",
       "      <td>1986-01-18 11:42:00</td>\n",
       "      <td>NaN</td>\n",
       "      <td>NaN</td>\n",
       "      <td>NaN</td>\n",
       "      <td>63</td>\n",
       "      <td>82</td>\n",
       "      <td>108</td>\n",
       "    </tr>\n",
       "  </tbody>\n",
       "</table>\n",
       "</div>"
      ],
      "text/plain": [
       "   Unnamed: 0  VirtualCaseID  VirtualPatientID  AIMS_Patient_Age_Years  \\\n",
       "0           1          10349              8114                      50   \n",
       "1           2          10349              8114                      50   \n",
       "2           3          10349              8114                      50   \n",
       "3           4          10349              8114                      50   \n",
       "4           5          10349              8114                      50   \n",
       "\n",
       "  AIMS_sex  Numeric_Proced_Code      VirtualDateTime  noninvDIA  noninvMAP  \\\n",
       "0        F              99232.0  1986-01-18 11:38:00        NaN        NaN   \n",
       "1        F              99232.0  1986-01-18 11:39:00        NaN        NaN   \n",
       "2        F              99232.0  1986-01-18 11:40:00       64.0       77.0   \n",
       "3        F              99232.0  1986-01-18 11:41:00        NaN        NaN   \n",
       "4        F              99232.0  1986-01-18 11:42:00        NaN        NaN   \n",
       "\n",
       "   noninvSYS  invDIA  invMAP  invSYS  \n",
       "0        NaN      40      70      84  \n",
       "1        NaN      56      73      93  \n",
       "2       96.0      55      72      97  \n",
       "3        NaN      63      82     109  \n",
       "4        NaN      63      82     108  "
      ]
     },
     "execution_count": 4,
     "metadata": {},
     "output_type": "execute_result"
    }
   ],
   "source": [
    "data.head()"
   ]
  },
  {
   "cell_type": "code",
   "execution_count": 5,
   "metadata": {},
   "outputs": [
    {
     "ename": "TypeError",
     "evalue": "'tuple' object is not callable",
     "output_type": "error",
     "traceback": [
      "\u001b[0;31m---------------------------------------------------------------------------\u001b[0m",
      "\u001b[0;31mTypeError\u001b[0m                                 Traceback (most recent call last)",
      "\u001b[0;32m<ipython-input-5-f83b53240979>\u001b[0m in \u001b[0;36m<module>\u001b[0;34m()\u001b[0m\n\u001b[0;32m----> 1\u001b[0;31m \u001b[0mdata\u001b[0m\u001b[0;34m.\u001b[0m\u001b[0mshape\u001b[0m\u001b[0;34m(\u001b[0m\u001b[0;34m)\u001b[0m\u001b[0;34m\u001b[0m\u001b[0m\n\u001b[0m",
      "\u001b[0;31mTypeError\u001b[0m: 'tuple' object is not callable"
     ]
    }
   ],
   "source": [
    "data.shape()"
   ]
  },
  {
   "cell_type": "code",
   "execution_count": null,
   "metadata": {
    "collapsed": true
   },
   "outputs": [],
   "source": [
    "type(data[\"noninvDIA\"][0])\n",
    "np.nan"
   ]
  },
  {
   "cell_type": "code",
   "execution_count": null,
   "metadata": {
    "collapsed": true
   },
   "outputs": [],
   "source": [
    "t0 = data[\"VirtualDateTime\"][0]\n",
    "print(t0)\n",
    "print(type(t0))\n"
   ]
  },
  {
   "cell_type": "markdown",
   "metadata": {},
   "source": [
    "## Convert ``VirtualDataTime`` from string to datetime\n",
    "\n",
    "### Define parse string"
   ]
  },
  {
   "cell_type": "code",
   "execution_count": null,
   "metadata": {
    "collapsed": true
   },
   "outputs": [],
   "source": [
    "parse_str = \"%Y-%m-%d %H:%M:%S\""
   ]
  },
  {
   "cell_type": "markdown",
   "metadata": {},
   "source": [
    "### Test parse string"
   ]
  },
  {
   "cell_type": "code",
   "execution_count": null,
   "metadata": {
    "collapsed": true
   },
   "outputs": [],
   "source": [
    "print(time.strftime(parse_str, time.localtime()))\n",
    "time.strptime(t0, parse_str)"
   ]
  },
  {
   "cell_type": "markdown",
   "metadata": {},
   "source": [
    "### Create datetime"
   ]
  },
  {
   "cell_type": "code",
   "execution_count": null,
   "metadata": {
    "collapsed": true
   },
   "outputs": [],
   "source": [
    "print(datetime.datetime.strptime(t0, parse_str))\n",
    "print(type(datetime.datetime.strptime(t0, parse_str)))"
   ]
  },
  {
   "cell_type": "code",
   "execution_count": null,
   "metadata": {
    "collapsed": true
   },
   "outputs": [],
   "source": [
    "def datestring_to_datetime(s, parse_str):\n",
    "    try:\n",
    "        return datetime.datetime.strptime(s, parse_str)\n",
    "    except:\n",
    "        return np.nan"
   ]
  },
  {
   "cell_type": "code",
   "execution_count": null,
   "metadata": {
    "collapsed": true
   },
   "outputs": [],
   "source": [
    "type(datestring_to_datetime(t0, parse_str))"
   ]
  },
  {
   "cell_type": "markdown",
   "metadata": {},
   "source": [
    "### Modify DataFrame"
   ]
  },
  {
   "cell_type": "code",
   "execution_count": null,
   "metadata": {
    "collapsed": true
   },
   "outputs": [],
   "source": [
    "data[\"VirtualDateTime Parsed\"] = \\\n",
    "data.apply(lambda x: datetime.datetime.strptime(x[\"VirtualDateTime\"], parse_str), axis=1)\n",
    "data.head()"
   ]
  },
  {
   "cell_type": "code",
   "execution_count": null,
   "metadata": {
    "collapsed": true
   },
   "outputs": [],
   "source": [
    "data[\"VirtualDateTime Parsed\"][0]"
   ]
  },
  {
   "cell_type": "markdown",
   "metadata": {},
   "source": [
    "### Alternatively we can do simple date conversions using Pandas ``to_datetime`` function"
   ]
  },
  {
   "cell_type": "code",
   "execution_count": null,
   "metadata": {
    "collapsed": true
   },
   "outputs": [],
   "source": [
    "data[\"VirtualDateTime Parsed2\"] = pd.to_datetime(data[\"VirtualDateTime\"], dayfirst=True)\n",
    "print(type(data[\"VirtualDateTime Parsed2\"][0]))\n",
    "data.head()"
   ]
  },
  {
   "cell_type": "code",
   "execution_count": null,
   "metadata": {
    "collapsed": true
   },
   "outputs": [],
   "source": [
    "data[\"VirtualCaseID\"].unique()"
   ]
  },
  {
   "cell_type": "code",
   "execution_count": null,
   "metadata": {
    "collapsed": true
   },
   "outputs": [],
   "source": [
    "sumbdata = data.dropna().head()#[\"invDIA\"].plot()"
   ]
  },
  {
   "cell_type": "code",
   "execution_count": null,
   "metadata": {
    "collapsed": true
   },
   "outputs": [],
   "source": [
    "data[data[\"VirtualCaseID\"]==10349].plot(x=\"VirtualDateTime Parsed\", \n",
    "                                 y=[\"invSYS\", \"invMAP\", \"invDIA\"])"
   ]
  },
  {
   "cell_type": "markdown",
   "metadata": {},
   "source": [
    "### Do we need to drop data\n",
    "#### Explore ``dropna`` with different values for ``how`"
   ]
  },
  {
   "cell_type": "code",
   "execution_count": null,
   "metadata": {
    "collapsed": true
   },
   "outputs": [],
   "source": [
    "data[data[\"VirtualCaseID\"]==10349].dropna(how=\"all\").plot(x=\"VirtualDateTime Parsed\", \n",
    "                                 y=[\"invSYS\", \"invMAP\", \"invDIA\"])"
   ]
  },
  {
   "cell_type": "markdown",
   "metadata": {},
   "source": [
    "## Data Cleansing  Filters\n",
    "#### Consider the following two criteria for considering a measurement as spurious\n",
    "\n",
    "1. x increases by more than 100 from one sample to the next\n",
    "    * $|x_{i}-x_{i-1}| > 100$\n",
    "1. x is lower than 10\n",
    "    * $x_i < 10$\n",
    "    \n",
    "### Analysis\n",
    "\n",
    "* The second condition should be easy for us to implement. We've aleady performed multiple examples of Boolean filtering.\n",
    "* The first condition is more challenging because it requires taking differences between rows and to date we've only computed on single rows\n",
    "\n",
    "### Approaches to Computing Differences\n",
    "\n",
    "1. We could use the Pandas DataFrame [``shift``](http://pandas.pydata.org/pandas-docs/stable/generated/pandas.DataFrame.shift.html) method\n",
    "1. We could use the Pandas DataFrame [``diff``](http://pandas.pydata.org/pandas-docs/stable/generated/pandas.DataFrame.diff.html) method"
   ]
  },
  {
   "cell_type": "markdown",
   "metadata": {},
   "source": [
    "#### Shift Approach"
   ]
  },
  {
   "cell_type": "code",
   "execution_count": null,
   "metadata": {
    "collapsed": true
   },
   "outputs": [],
   "source": [
    "data[\"invSYS\"] - data[\"invSYS\"].shift(-1)"
   ]
  },
  {
   "cell_type": "markdown",
   "metadata": {},
   "source": [
    "## Exercise: \n",
    "### Use the shift method to implement the maximum difference filter"
   ]
  },
  {
   "cell_type": "code",
   "execution_count": null,
   "metadata": {
    "collapsed": true
   },
   "outputs": [],
   "source": []
  },
  {
   "cell_type": "markdown",
   "metadata": {},
   "source": [
    "#### Diff Method"
   ]
  },
  {
   "cell_type": "code",
   "execution_count": null,
   "metadata": {
    "collapsed": true
   },
   "outputs": [],
   "source": [
    "data[\"invSYS\"].diff(-1)"
   ]
  },
  {
   "cell_type": "markdown",
   "metadata": {},
   "source": [
    "## Exercise: \n",
    "### Use the diff method to implement the maximum difference filter"
   ]
  },
  {
   "cell_type": "code",
   "execution_count": null,
   "metadata": {
    "collapsed": true
   },
   "outputs": [],
   "source": []
  },
  {
   "cell_type": "markdown",
   "metadata": {},
   "source": [
    "## Built-in Pandas Computational Tools\n",
    "### Pandas provides a number of functions that for smoothing data that might be of value\n",
    "#### [Window Functions](http://pandas.pydata.org/pandas-docs/stable/computation.html)\n"
   ]
  },
  {
   "cell_type": "code",
   "execution_count": null,
   "metadata": {
    "collapsed": true
   },
   "outputs": [],
   "source": []
  }
 ],
 "metadata": {
  "kernelspec": {
   "display_name": "Python 3",
   "language": "python",
   "name": "python3"
  },
  "language_info": {
   "codemirror_mode": {
    "name": "ipython",
    "version": 3
   },
   "file_extension": ".py",
   "mimetype": "text/x-python",
   "name": "python",
   "nbconvert_exporter": "python",
   "pygments_lexer": "ipython3",
   "version": "3.5.2"
  }
 },
 "nbformat": 4,
 "nbformat_minor": 1
}
