{
 "cells": [
  {
   "cell_type": "markdown",
   "metadata": {},
   "source": [
    "# Identifying Patient Cohorts in [MIMIC-II](http://www.ncbi.nlm.nih.gov/pmc/articles/PMC3124312/)\n"
   ]
  },
  {
   "cell_type": "code",
   "execution_count": 1,
   "metadata": {
    "collapsed": true
   },
   "outputs": [],
   "source": [
    "%matplotlib inline"
   ]
  },
  {
   "cell_type": "code",
   "execution_count": 2,
   "metadata": {
    "collapsed": true
   },
   "outputs": [],
   "source": [
    "import pymysql\n",
    "import pandas as pd\n",
    "import getpass\n",
    "import pandas as pd\n",
    "import seaborn as sns\n",
    "import datetime\n",
    "import time\n",
    "import matplotlib.pyplot as plt"
   ]
  },
  {
   "cell_type": "code",
   "execution_count": 3,
   "metadata": {},
   "outputs": [
    {
     "name": "stdout",
     "output_type": "stream",
     "text": [
      "Enter MySQL passwd for jovyan········\n"
     ]
    }
   ],
   "source": [
    "conn = pymysql.connect(host=\"mysql\",\n",
    "                       port=3306,user=\"jovyan\",\n",
    "                       passwd=getpass.getpass(\"Enter MySQL passwd for jovyan\"),db='mimic2')\n",
    "cursor = conn.cursor()"
   ]
  },
  {
   "cell_type": "markdown",
   "metadata": {},
   "source": [
    "## Example Query: Heart Rate and Blood Pressure\n",
    "\n",
    "#### Select a patient from the following ids\n",
    "* 12613\n",
    "* 11923\n",
    "* 517\n",
    "* 14898"
   ]
  },
  {
   "cell_type": "code",
   "execution_count": null,
   "metadata": {
    "collapsed": true
   },
   "outputs": [],
   "source": []
  },
  {
   "cell_type": "code",
   "execution_count": 4,
   "metadata": {},
   "outputs": [
    {
     "data": {
      "text/html": [
       "<div>\n",
       "<table border=\"1\" class=\"dataframe\">\n",
       "  <thead>\n",
       "    <tr style=\"text-align: right;\">\n",
       "      <th></th>\n",
       "      <th>subject_id</th>\n",
       "      <th>icustay_id</th>\n",
       "      <th>charttime</th>\n",
       "      <th>realtime</th>\n",
       "      <th>value1num</th>\n",
       "      <th>value1uom</th>\n",
       "    </tr>\n",
       "  </thead>\n",
       "  <tbody>\n",
       "    <tr>\n",
       "      <th>0</th>\n",
       "      <td>517</td>\n",
       "      <td>NaN</td>\n",
       "      <td>2951-08-21 15:00:00</td>\n",
       "      <td>2951-08-21 15:15:00</td>\n",
       "      <td>142.0</td>\n",
       "      <td>bpm</td>\n",
       "    </tr>\n",
       "    <tr>\n",
       "      <th>1</th>\n",
       "      <td>517</td>\n",
       "      <td>637.0</td>\n",
       "      <td>2951-08-21 15:30:00</td>\n",
       "      <td>2951-08-21 16:46:00</td>\n",
       "      <td>159.0</td>\n",
       "      <td>bpm</td>\n",
       "    </tr>\n",
       "    <tr>\n",
       "      <th>2</th>\n",
       "      <td>517</td>\n",
       "      <td>637.0</td>\n",
       "      <td>2951-08-21 15:45:00</td>\n",
       "      <td>2951-08-21 16:46:00</td>\n",
       "      <td>158.0</td>\n",
       "      <td>bpm</td>\n",
       "    </tr>\n",
       "    <tr>\n",
       "      <th>3</th>\n",
       "      <td>517</td>\n",
       "      <td>637.0</td>\n",
       "      <td>2951-08-21 16:00:00</td>\n",
       "      <td>2951-08-21 16:46:00</td>\n",
       "      <td>154.0</td>\n",
       "      <td>bpm</td>\n",
       "    </tr>\n",
       "    <tr>\n",
       "      <th>4</th>\n",
       "      <td>517</td>\n",
       "      <td>637.0</td>\n",
       "      <td>2951-08-21 16:15:00</td>\n",
       "      <td>2951-08-21 16:46:00</td>\n",
       "      <td>157.0</td>\n",
       "      <td>bpm</td>\n",
       "    </tr>\n",
       "  </tbody>\n",
       "</table>\n",
       "</div>"
      ],
      "text/plain": [
       "   subject_id  icustay_id            charttime             realtime  \\\n",
       "0         517         NaN  2951-08-21 15:00:00  2951-08-21 15:15:00   \n",
       "1         517       637.0  2951-08-21 15:30:00  2951-08-21 16:46:00   \n",
       "2         517       637.0  2951-08-21 15:45:00  2951-08-21 16:46:00   \n",
       "3         517       637.0  2951-08-21 16:00:00  2951-08-21 16:46:00   \n",
       "4         517       637.0  2951-08-21 16:15:00  2951-08-21 16:46:00   \n",
       "\n",
       "   value1num value1uom  \n",
       "0      142.0       bpm  \n",
       "1      159.0       bpm  \n",
       "2      158.0       bpm  \n",
       "3      154.0       bpm  \n",
       "4      157.0       bpm  "
      ]
     },
     "execution_count": 4,
     "metadata": {},
     "output_type": "execute_result"
    }
   ],
   "source": [
    "hr = pd.read_sql(\"\"\"SELECT subject_id, \n",
    "                           icustay_id, \n",
    "                           charttime, \n",
    "                           realtime,\n",
    "                           value1num,\n",
    "                           value1uom\n",
    "                    FROM chartevents\n",
    "                    WHERE itemid in (211) AND\n",
    "                          subject_id in (11923, 12613, 517)\"\"\"\n",
    "    ,conn)\n",
    "hr.head()"
   ]
  },
  {
   "cell_type": "code",
   "execution_count": 5,
   "metadata": {},
   "outputs": [
    {
     "data": {
      "text/html": [
       "<div>\n",
       "<table border=\"1\" class=\"dataframe\">\n",
       "  <thead>\n",
       "    <tr style=\"text-align: right;\">\n",
       "      <th></th>\n",
       "      <th>subject_id</th>\n",
       "      <th>icustay_id</th>\n",
       "      <th>charttime</th>\n",
       "      <th>realtime</th>\n",
       "      <th>value1num</th>\n",
       "      <th>value1uom</th>\n",
       "      <th>value2num</th>\n",
       "      <th>value2uom</th>\n",
       "    </tr>\n",
       "  </thead>\n",
       "  <tbody>\n",
       "    <tr>\n",
       "      <th>0</th>\n",
       "      <td>11923</td>\n",
       "      <td>14882</td>\n",
       "      <td>2654-09-28 12:20:00</td>\n",
       "      <td>2654-09-28 13:36:00</td>\n",
       "      <td>117.0</td>\n",
       "      <td>mmHg</td>\n",
       "      <td>46.0</td>\n",
       "      <td>mmHg</td>\n",
       "    </tr>\n",
       "    <tr>\n",
       "      <th>1</th>\n",
       "      <td>11923</td>\n",
       "      <td>14882</td>\n",
       "      <td>2654-09-28 12:25:00</td>\n",
       "      <td>2654-09-28 13:36:00</td>\n",
       "      <td>185.0</td>\n",
       "      <td>mmHg</td>\n",
       "      <td>43.0</td>\n",
       "      <td>mmHg</td>\n",
       "    </tr>\n",
       "    <tr>\n",
       "      <th>2</th>\n",
       "      <td>11923</td>\n",
       "      <td>14882</td>\n",
       "      <td>2654-09-28 12:30:00</td>\n",
       "      <td>2654-09-28 13:36:00</td>\n",
       "      <td>248.0</td>\n",
       "      <td>mmHg</td>\n",
       "      <td>49.0</td>\n",
       "      <td>mmHg</td>\n",
       "    </tr>\n",
       "    <tr>\n",
       "      <th>3</th>\n",
       "      <td>11923</td>\n",
       "      <td>14882</td>\n",
       "      <td>2654-09-28 12:35:00</td>\n",
       "      <td>2654-09-28 13:36:00</td>\n",
       "      <td>192.0</td>\n",
       "      <td>mmHg</td>\n",
       "      <td>50.0</td>\n",
       "      <td>mmHg</td>\n",
       "    </tr>\n",
       "    <tr>\n",
       "      <th>4</th>\n",
       "      <td>11923</td>\n",
       "      <td>14882</td>\n",
       "      <td>2654-09-28 12:40:00</td>\n",
       "      <td>2654-09-28 13:36:00</td>\n",
       "      <td>159.0</td>\n",
       "      <td>mmHg</td>\n",
       "      <td>50.0</td>\n",
       "      <td>mmHg</td>\n",
       "    </tr>\n",
       "  </tbody>\n",
       "</table>\n",
       "</div>"
      ],
      "text/plain": [
       "   subject_id  icustay_id            charttime             realtime  \\\n",
       "0       11923       14882  2654-09-28 12:20:00  2654-09-28 13:36:00   \n",
       "1       11923       14882  2654-09-28 12:25:00  2654-09-28 13:36:00   \n",
       "2       11923       14882  2654-09-28 12:30:00  2654-09-28 13:36:00   \n",
       "3       11923       14882  2654-09-28 12:35:00  2654-09-28 13:36:00   \n",
       "4       11923       14882  2654-09-28 12:40:00  2654-09-28 13:36:00   \n",
       "\n",
       "   value1num value1uom  value2num value2uom  \n",
       "0      117.0      mmHg       46.0      mmHg  \n",
       "1      185.0      mmHg       43.0      mmHg  \n",
       "2      248.0      mmHg       49.0      mmHg  \n",
       "3      192.0      mmHg       50.0      mmHg  \n",
       "4      159.0      mmHg       50.0      mmHg  "
      ]
     },
     "execution_count": 5,
     "metadata": {},
     "output_type": "execute_result"
    }
   ],
   "source": [
    "bp = pd.read_sql(\"\"\"SELECT subject_id, \n",
    "                           icustay_id, \n",
    "                           charttime, \n",
    "                           realtime,\n",
    "                           value1num,\n",
    "                           value1uom,\n",
    "                           value2num,\n",
    "                           value2uom\n",
    "                    FROM chartevents\n",
    "                    WHERE itemid in (6, 51, 455, 6701) AND\n",
    "                          subject_id in (11923, 12613, 517)\"\"\"\n",
    "    ,conn)\n",
    "bp.head()"
   ]
  },
  {
   "cell_type": "code",
   "execution_count": null,
   "metadata": {
    "collapsed": true
   },
   "outputs": [],
   "source": [
    "bp[\"subject_id\"].unique()"
   ]
  },
  {
   "cell_type": "code",
   "execution_count": null,
   "metadata": {
    "collapsed": true
   },
   "outputs": [],
   "source": [
    "print(bp[\"icustay_id\"].value_counts())\n",
    "print(bp[\"subject_id\"].value_counts())"
   ]
  },
  {
   "cell_type": "code",
   "execution_count": null,
   "metadata": {
    "collapsed": true
   },
   "outputs": [],
   "source": [
    "hr[\"icustay_id\"].value_counts()"
   ]
  },
  {
   "cell_type": "markdown",
   "metadata": {},
   "source": [
    "### Plot Heart Rate as a Time Series"
   ]
  },
  {
   "cell_type": "code",
   "execution_count": null,
   "metadata": {
    "collapsed": true
   },
   "outputs": [],
   "source": [
    "hr.plot(x=\"realtime\", y=\"value1num\")"
   ]
  },
  {
   "cell_type": "markdown",
   "metadata": {},
   "source": [
    "#### What went wrong?\n",
    "\n",
    "As part of their de-identication process, the MIMIC2 creators have created large, random time shifts. We can look at the first data point to see what our calendar is"
   ]
  },
  {
   "cell_type": "code",
   "execution_count": null,
   "metadata": {
    "collapsed": true
   },
   "outputs": [],
   "source": [
    "print(hr[\"realtime\"][0])\n"
   ]
  },
  {
   "cell_type": "markdown",
   "metadata": {},
   "source": [
    "#### Our data is from the year 2654 which for whatever reason pandas can't plot.\n",
    "### We can shift the data back to our own time\n",
    "#### Compute the timedelta between the now and the first data point."
   ]
  },
  {
   "cell_type": "code",
   "execution_count": null,
   "metadata": {
    "collapsed": true
   },
   "outputs": [],
   "source": [
    "first_time = hr[\"realtime\"][0]\n",
    "time_delta = first_time - datetime.datetime.now()\n",
    "print(time_delta.days)"
   ]
  },
  {
   "cell_type": "code",
   "execution_count": null,
   "metadata": {
    "collapsed": true
   },
   "outputs": [],
   "source": [
    "first_time - time_delta"
   ]
  },
  {
   "cell_type": "markdown",
   "metadata": {},
   "source": [
    "## Exercise: Use Pandas apply to create new columns with charttimes and real times shifted to starting at the current  date for the heart rate and blood pressure data"
   ]
  },
  {
   "cell_type": "code",
   "execution_count": null,
   "metadata": {
    "collapsed": true
   },
   "outputs": [],
   "source": []
  },
  {
   "cell_type": "code",
   "execution_count": null,
   "metadata": {
    "collapsed": true
   },
   "outputs": [],
   "source": []
  },
  {
   "cell_type": "code",
   "execution_count": null,
   "metadata": {
    "collapsed": true
   },
   "outputs": [],
   "source": [
    "hr[hr[\"icustay_id\"]==14882].plot(x=\"new charttime\", \n",
    "                                 y=\"value1num\")\n",
    "hr[hr[\"icustay_id\"]!=14882].plot(x=\"new charttime\", \n",
    "                                 y=\"value1num\", color='red')"
   ]
  },
  {
   "cell_type": "code",
   "execution_count": null,
   "metadata": {
    "collapsed": true
   },
   "outputs": [],
   "source": [
    "bp[bp[\"icustay_id\"]==14882].plot(x=\"new charttime\", \n",
    "                                 y=[\"value1num\", \"value2num\"])\n",
    "bp[bp[\"icustay_id\"]!=14882].plot(x=\"new charttime\", \n",
    "                                 y=[\"value1num\", \"value2num\"])"
   ]
  },
  {
   "cell_type": "code",
   "execution_count": null,
   "metadata": {
    "collapsed": true
   },
   "outputs": [],
   "source": [
    "hr[\"chart delta\"] = \\\n",
    "hr.apply(lambda x: (x[\"charttime\"] - \n",
    "                        x[\"realtime\"]).total_seconds(), axis=1)\n",
    "hr.head()"
   ]
  },
  {
   "cell_type": "markdown",
   "metadata": {},
   "source": [
    "## Exercise: Timestamp from datetime\n",
    "#### Using ``time.mktime`` and ``datetime.timetuple`` create timestamps for each measurement"
   ]
  },
  {
   "cell_type": "code",
   "execution_count": null,
   "metadata": {
    "collapsed": true
   },
   "outputs": [],
   "source": [
    "time.mktime(first_time.timetuple())"
   ]
  },
  {
   "cell_type": "code",
   "execution_count": null,
   "metadata": {
    "collapsed": true
   },
   "outputs": [],
   "source": []
  },
  {
   "cell_type": "code",
   "execution_count": null,
   "metadata": {
    "collapsed": true
   },
   "outputs": [],
   "source": [
    "hr[[\"new charttime\",\"new realtime\",\"chart delta\"]][hr[\"icustay_id\"]==14882].plot.line(x=\"new charttime\", \n",
    "                               y=\"chart delta\")"
   ]
  },
  {
   "cell_type": "code",
   "execution_count": null,
   "metadata": {
    "collapsed": true
   },
   "outputs": [],
   "source": []
  }
 ],
 "metadata": {
  "kernelspec": {
   "display_name": "Python 3",
   "language": "python",
   "name": "python3"
  },
  "language_info": {
   "codemirror_mode": {
    "name": "ipython",
    "version": 3
   },
   "file_extension": ".py",
   "mimetype": "text/x-python",
   "name": "python",
   "nbconvert_exporter": "python",
   "pygments_lexer": "ipython3",
   "version": "3.5.2"
  }
 },
 "nbformat": 4,
 "nbformat_minor": 1
}
