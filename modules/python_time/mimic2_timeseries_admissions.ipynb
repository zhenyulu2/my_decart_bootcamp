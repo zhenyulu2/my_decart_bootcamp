{
 "cells": [
  {
   "cell_type": "markdown",
   "metadata": {},
   "source": [
    "# Identifying Patient Cohorts in [MIMIC-II](http://www.ncbi.nlm.nih.gov/pmc/articles/PMC3124312/)\n"
   ]
  },
  {
   "cell_type": "code",
   "execution_count": 1,
   "metadata": {
    "collapsed": true
   },
   "outputs": [],
   "source": [
    "%matplotlib inline"
   ]
  },
  {
   "cell_type": "code",
   "execution_count": 4,
   "metadata": {
    "collapsed": true
   },
   "outputs": [],
   "source": [
    "import pymysql\n",
    "import pandas as pd\n",
    "import getpass\n",
    "import pandas as pd\n",
    "import seaborn as sns\n",
    "import datetime\n",
    "import time\n",
    "import matplotlib.pyplot as plt"
   ]
  },
  {
   "cell_type": "code",
   "execution_count": 5,
   "metadata": {},
   "outputs": [
    {
     "name": "stdout",
     "output_type": "stream",
     "text": [
      "Enter MySQL passwd for jovyan········\n"
     ]
    }
   ],
   "source": [
    "conn = pymysql.connect(host=\"mysql\",\n",
    "                       port=3306,user=\"jovyan\",\n",
    "                       passwd=getpass.getpass(\"Enter MySQL passwd for jovyan\"),db='mimic2')\n",
    "cursor = conn.cursor()"
   ]
  },
  {
   "cell_type": "code",
   "execution_count": 10,
   "metadata": {},
   "outputs": [
    {
     "data": {
      "text/html": [
       "<div>\n",
       "<table border=\"1\" class=\"dataframe\">\n",
       "  <thead>\n",
       "    <tr style=\"text-align: right;\">\n",
       "      <th></th>\n",
       "      <th>hadm_id</th>\n",
       "      <th>subject_id</th>\n",
       "      <th>admit_dt</th>\n",
       "      <th>disch_dt</th>\n",
       "    </tr>\n",
       "  </thead>\n",
       "  <tbody>\n",
       "    <tr>\n",
       "      <th>0</th>\n",
       "      <td>28766</td>\n",
       "      <td>56</td>\n",
       "      <td>2644-01-17 00:00:00</td>\n",
       "      <td>2644-01-23 00:00:00</td>\n",
       "    </tr>\n",
       "    <tr>\n",
       "      <th>1</th>\n",
       "      <td>2075</td>\n",
       "      <td>3</td>\n",
       "      <td>2682-09-07 00:00:00</td>\n",
       "      <td>2682-09-18 00:00:00</td>\n",
       "    </tr>\n",
       "    <tr>\n",
       "      <th>2</th>\n",
       "      <td>20666</td>\n",
       "      <td>21</td>\n",
       "      <td>3138-10-29 00:00:00</td>\n",
       "      <td>3138-11-11 00:00:00</td>\n",
       "    </tr>\n",
       "    <tr>\n",
       "      <th>3</th>\n",
       "      <td>20882</td>\n",
       "      <td>21</td>\n",
       "      <td>3139-03-19 00:00:00</td>\n",
       "      <td>3139-03-28 00:00:00</td>\n",
       "    </tr>\n",
       "    <tr>\n",
       "      <th>4</th>\n",
       "      <td>12532</td>\n",
       "      <td>12</td>\n",
       "      <td>2875-09-26 00:00:00</td>\n",
       "      <td>2875-10-09 00:00:00</td>\n",
       "    </tr>\n",
       "  </tbody>\n",
       "</table>\n",
       "</div>"
      ],
      "text/plain": [
       "   hadm_id  subject_id             admit_dt             disch_dt\n",
       "0    28766          56  2644-01-17 00:00:00  2644-01-23 00:00:00\n",
       "1     2075           3  2682-09-07 00:00:00  2682-09-18 00:00:00\n",
       "2    20666          21  3138-10-29 00:00:00  3138-11-11 00:00:00\n",
       "3    20882          21  3139-03-19 00:00:00  3139-03-28 00:00:00\n",
       "4    12532          12  2875-09-26 00:00:00  2875-10-09 00:00:00"
      ]
     },
     "execution_count": 10,
     "metadata": {},
     "output_type": "execute_result"
    }
   ],
   "source": [
    " pd.read_sql(\"\"\"SELECT * FROM admissions LIMIT 50\"\"\", conn).head()"
   ]
  },
  {
   "cell_type": "code",
   "execution_count": 9,
   "metadata": {},
   "outputs": [
    {
     "ename": "TypeError",
     "evalue": "'numpy.int64' object is not callable",
     "output_type": "error",
     "traceback": [
      "\u001b[0;31m---------------------------------------------------------------------------\u001b[0m",
      "\u001b[0;31mTypeError\u001b[0m                                 Traceback (most recent call last)",
      "\u001b[0;32m<ipython-input-9-d17d4ba07aba>\u001b[0m in \u001b[0;36m<module>\u001b[0;34m()\u001b[0m\n\u001b[0;32m----> 1\u001b[0;31m \u001b[0ma\u001b[0m\u001b[0;34m.\u001b[0m\u001b[0msize\u001b[0m\u001b[0;34m(\u001b[0m\u001b[0;34m)\u001b[0m\u001b[0;34m\u001b[0m\u001b[0m\n\u001b[0m",
      "\u001b[0;31mTypeError\u001b[0m: 'numpy.int64' object is not callable"
     ]
    }
   ],
   "source": []
  },
  {
   "cell_type": "code",
   "execution_count": null,
   "metadata": {
    "collapsed": true
   },
   "outputs": [],
   "source": []
  },
  {
   "cell_type": "code",
   "execution_count": null,
   "metadata": {
    "collapsed": true
   },
   "outputs": [],
   "source": []
  },
  {
   "cell_type": "code",
   "execution_count": null,
   "metadata": {
    "collapsed": true
   },
   "outputs": [],
   "source": []
  },
  {
   "cell_type": "markdown",
   "metadata": {},
   "source": [
    "## Exercise: Create a Histogram of the length of stay for subjects in the database"
   ]
  },
  {
   "cell_type": "code",
   "execution_count": 16,
   "metadata": {},
   "outputs": [
    {
     "name": "stdout",
     "output_type": "stream",
     "text": [
      "(5074, 4)\n"
     ]
    },
    {
     "data": {
      "text/html": [
       "<div>\n",
       "<table border=\"1\" class=\"dataframe\">\n",
       "  <thead>\n",
       "    <tr style=\"text-align: right;\">\n",
       "      <th></th>\n",
       "      <th>hadm_id</th>\n",
       "      <th>subject_id</th>\n",
       "      <th>admit_dt</th>\n",
       "      <th>disch_dt</th>\n",
       "      <th>LOS</th>\n",
       "      <th>LOS2</th>\n",
       "    </tr>\n",
       "  </thead>\n",
       "  <tbody>\n",
       "    <tr>\n",
       "      <th>0</th>\n",
       "      <td>28766</td>\n",
       "      <td>56</td>\n",
       "      <td>2644-01-17 00:00:00</td>\n",
       "      <td>2644-01-23 00:00:00</td>\n",
       "      <td>6 days</td>\n",
       "      <td>518400.0</td>\n",
       "    </tr>\n",
       "    <tr>\n",
       "      <th>1</th>\n",
       "      <td>2075</td>\n",
       "      <td>3</td>\n",
       "      <td>2682-09-07 00:00:00</td>\n",
       "      <td>2682-09-18 00:00:00</td>\n",
       "      <td>11 days</td>\n",
       "      <td>950400.0</td>\n",
       "    </tr>\n",
       "    <tr>\n",
       "      <th>2</th>\n",
       "      <td>20666</td>\n",
       "      <td>21</td>\n",
       "      <td>3138-10-29 00:00:00</td>\n",
       "      <td>3138-11-11 00:00:00</td>\n",
       "      <td>13 days</td>\n",
       "      <td>1123200.0</td>\n",
       "    </tr>\n",
       "    <tr>\n",
       "      <th>3</th>\n",
       "      <td>20882</td>\n",
       "      <td>21</td>\n",
       "      <td>3139-03-19 00:00:00</td>\n",
       "      <td>3139-03-28 00:00:00</td>\n",
       "      <td>9 days</td>\n",
       "      <td>777600.0</td>\n",
       "    </tr>\n",
       "    <tr>\n",
       "      <th>4</th>\n",
       "      <td>12532</td>\n",
       "      <td>12</td>\n",
       "      <td>2875-09-26 00:00:00</td>\n",
       "      <td>2875-10-09 00:00:00</td>\n",
       "      <td>13 days</td>\n",
       "      <td>1123200.0</td>\n",
       "    </tr>\n",
       "  </tbody>\n",
       "</table>\n",
       "</div>"
      ],
      "text/plain": [
       "   hadm_id  subject_id             admit_dt             disch_dt     LOS  \\\n",
       "0    28766          56  2644-01-17 00:00:00  2644-01-23 00:00:00  6 days   \n",
       "1     2075           3  2682-09-07 00:00:00  2682-09-18 00:00:00 11 days   \n",
       "2    20666          21  3138-10-29 00:00:00  3138-11-11 00:00:00 13 days   \n",
       "3    20882          21  3139-03-19 00:00:00  3139-03-28 00:00:00  9 days   \n",
       "4    12532          12  2875-09-26 00:00:00  2875-10-09 00:00:00 13 days   \n",
       "\n",
       "        LOS2  \n",
       "0   518400.0  \n",
       "1   950400.0  \n",
       "2  1123200.0  \n",
       "3   777600.0  \n",
       "4  1123200.0  "
      ]
     },
     "execution_count": 16,
     "metadata": {},
     "output_type": "execute_result"
    }
   ],
   "source": [
    "hosps = \\\n",
    "pd.read_sql(\"\"\"SELECT * FROM admissions\"\"\", conn)\n",
    "print(hosps.shape)\n",
    "hosps\n",
    "hosps[\"LOS\"] = hosps[\"disch_dt\"] - hosps[\"admit_dt\"]\n",
    "hosps[\"LOS2\"] = hosps.apply(lambda row: (row[\"disch_dt\"]- row[\"admit_dt\"]).total_seconds(), axis = 1)\n",
    "hosps.head()"
   ]
  },
  {
   "cell_type": "code",
   "execution_count": 17,
   "metadata": {},
   "outputs": [
    {
     "data": {
      "text/plain": [
       "Timedelta('6 days 00:00:00')"
      ]
     },
     "execution_count": 17,
     "metadata": {},
     "output_type": "execute_result"
    }
   ],
   "source": [
    "hosps[\"LOS\"][0]"
   ]
  },
  {
   "cell_type": "code",
   "execution_count": 18,
   "metadata": {},
   "outputs": [
    {
     "data": {
      "text/plain": [
       "count    5.074000e+03\n",
       "mean     1.008517e+06\n",
       "std      1.165680e+06\n",
       "min      0.000000e+00\n",
       "25%      3.456000e+05\n",
       "50%      6.912000e+05\n",
       "75%      1.209600e+06\n",
       "max      2.548800e+07\n",
       "Name: LOS2, dtype: float64"
      ]
     },
     "execution_count": 18,
     "metadata": {},
     "output_type": "execute_result"
    }
   ],
   "source": [
    "hosps[\"LOS2\"].describe()"
   ]
  },
  {
   "cell_type": "code",
   "execution_count": 19,
   "metadata": {},
   "outputs": [
    {
     "name": "stdout",
     "output_type": "stream",
     "text": [
      "(5074, 4)\n"
     ]
    },
    {
     "data": {
      "text/html": [
       "<div>\n",
       "<table border=\"1\" class=\"dataframe\">\n",
       "  <thead>\n",
       "    <tr style=\"text-align: right;\">\n",
       "      <th></th>\n",
       "      <th>hadm_id</th>\n",
       "      <th>subject_id</th>\n",
       "      <th>admit_dt</th>\n",
       "      <th>disch_dt</th>\n",
       "      <th>LOS</th>\n",
       "      <th>LOS2</th>\n",
       "    </tr>\n",
       "  </thead>\n",
       "  <tbody>\n",
       "    <tr>\n",
       "      <th>0</th>\n",
       "      <td>28766</td>\n",
       "      <td>56</td>\n",
       "      <td>2644-01-17 00:00:00</td>\n",
       "      <td>2644-01-23 00:00:00</td>\n",
       "      <td>6 days</td>\n",
       "      <td>6.0</td>\n",
       "    </tr>\n",
       "    <tr>\n",
       "      <th>1</th>\n",
       "      <td>2075</td>\n",
       "      <td>3</td>\n",
       "      <td>2682-09-07 00:00:00</td>\n",
       "      <td>2682-09-18 00:00:00</td>\n",
       "      <td>11 days</td>\n",
       "      <td>11.0</td>\n",
       "    </tr>\n",
       "    <tr>\n",
       "      <th>2</th>\n",
       "      <td>20666</td>\n",
       "      <td>21</td>\n",
       "      <td>3138-10-29 00:00:00</td>\n",
       "      <td>3138-11-11 00:00:00</td>\n",
       "      <td>13 days</td>\n",
       "      <td>13.0</td>\n",
       "    </tr>\n",
       "    <tr>\n",
       "      <th>3</th>\n",
       "      <td>20882</td>\n",
       "      <td>21</td>\n",
       "      <td>3139-03-19 00:00:00</td>\n",
       "      <td>3139-03-28 00:00:00</td>\n",
       "      <td>9 days</td>\n",
       "      <td>9.0</td>\n",
       "    </tr>\n",
       "    <tr>\n",
       "      <th>4</th>\n",
       "      <td>12532</td>\n",
       "      <td>12</td>\n",
       "      <td>2875-09-26 00:00:00</td>\n",
       "      <td>2875-10-09 00:00:00</td>\n",
       "      <td>13 days</td>\n",
       "      <td>13.0</td>\n",
       "    </tr>\n",
       "  </tbody>\n",
       "</table>\n",
       "</div>"
      ],
      "text/plain": [
       "   hadm_id  subject_id             admit_dt             disch_dt     LOS  LOS2\n",
       "0    28766          56  2644-01-17 00:00:00  2644-01-23 00:00:00  6 days   6.0\n",
       "1     2075           3  2682-09-07 00:00:00  2682-09-18 00:00:00 11 days  11.0\n",
       "2    20666          21  3138-10-29 00:00:00  3138-11-11 00:00:00 13 days  13.0\n",
       "3    20882          21  3139-03-19 00:00:00  3139-03-28 00:00:00  9 days   9.0\n",
       "4    12532          12  2875-09-26 00:00:00  2875-10-09 00:00:00 13 days  13.0"
      ]
     },
     "execution_count": 19,
     "metadata": {},
     "output_type": "execute_result"
    }
   ],
   "source": [
    "hosps = \\\n",
    "pd.read_sql(\"\"\"SELECT * FROM admissions\"\"\", conn)\n",
    "print(hosps.shape)\n",
    "hosps\n",
    "hosps[\"LOS\"] = hosps[\"disch_dt\"] - hosps[\"admit_dt\"]\n",
    "hosps[\"LOS2\"] = hosps.apply(lambda row: (row[\"disch_dt\"]- row[\"admit_dt\"]).total_seconds()/(24*3600), axis = 1)\n",
    "hosps.head()"
   ]
  },
  {
   "cell_type": "code",
   "execution_count": 22,
   "metadata": {},
   "outputs": [
    {
     "data": {
      "text/plain": [
       "<matplotlib.axes._subplots.AxesSubplot at 0x7f11a5012e10>"
      ]
     },
     "execution_count": 22,
     "metadata": {},
     "output_type": "execute_result"
    },
    {
     "data": {
      "image/png": "[encoded data removed]",
      "text/plain": [
       "<matplotlib.figure.Figure at 0x7f11b010bbe0>"
      ]
     },
     "metadata": {},
     "output_type": "display_data"
    }
   ],
   "source": [
    "hosps[\"LOS2\"].plot.hist(bins=100)"
   ]
  },
  {
   "cell_type": "code",
   "execution_count": 24,
   "metadata": {},
   "outputs": [
    {
     "data": {
      "text/plain": [
       "<matplotlib.axes._subplots.AxesSubplot at 0x7f117bc16b00>"
      ]
     },
     "execution_count": 24,
     "metadata": {},
     "output_type": "execute_result"
    },
    {
     "data": {
      "image/png": "[encoded data removed]",
      "text/plain": [
       "<matplotlib.figure.Figure at 0x7f117bd1eb70>"
      ]
     },
     "metadata": {},
     "output_type": "display_data"
    }
   ],
   "source": [
    "hosps[\"LOS2\"].plot.bar()"
   ]
  },
  {
   "cell_type": "markdown",
   "metadata": {},
   "source": [
    "## Exercise: Create a histogram of the day of the week when patients are admitted"
   ]
  },
  {
   "cell_type": "code",
   "execution_count": 25,
   "metadata": {},
   "outputs": [
    {
     "data": {
      "text/plain": [
       "2"
      ]
     },
     "execution_count": 25,
     "metadata": {},
     "output_type": "execute_result"
    }
   ],
   "source": [
    "admit1 = hosps[\"admit_dt\"][0]\n",
    "admit1.weekday()"
   ]
  },
  {
   "cell_type": "code",
   "execution_count": 27,
   "metadata": {},
   "outputs": [
    {
     "data": {
      "text/html": [
       "<div>\n",
       "<table border=\"1\" class=\"dataframe\">\n",
       "  <thead>\n",
       "    <tr style=\"text-align: right;\">\n",
       "      <th></th>\n",
       "      <th>hadm_id</th>\n",
       "      <th>subject_id</th>\n",
       "      <th>admit_dt</th>\n",
       "      <th>disch_dt</th>\n",
       "      <th>LOS</th>\n",
       "      <th>LOS2</th>\n",
       "      <th>day of week</th>\n",
       "    </tr>\n",
       "  </thead>\n",
       "  <tbody>\n",
       "    <tr>\n",
       "      <th>0</th>\n",
       "      <td>28766</td>\n",
       "      <td>56</td>\n",
       "      <td>2644-01-17 00:00:00</td>\n",
       "      <td>2644-01-23 00:00:00</td>\n",
       "      <td>6 days</td>\n",
       "      <td>6.0</td>\n",
       "      <td>2</td>\n",
       "    </tr>\n",
       "    <tr>\n",
       "      <th>1</th>\n",
       "      <td>2075</td>\n",
       "      <td>3</td>\n",
       "      <td>2682-09-07 00:00:00</td>\n",
       "      <td>2682-09-18 00:00:00</td>\n",
       "      <td>11 days</td>\n",
       "      <td>11.0</td>\n",
       "      <td>3</td>\n",
       "    </tr>\n",
       "    <tr>\n",
       "      <th>2</th>\n",
       "      <td>20666</td>\n",
       "      <td>21</td>\n",
       "      <td>3138-10-29 00:00:00</td>\n",
       "      <td>3138-11-11 00:00:00</td>\n",
       "      <td>13 days</td>\n",
       "      <td>13.0</td>\n",
       "      <td>5</td>\n",
       "    </tr>\n",
       "    <tr>\n",
       "      <th>3</th>\n",
       "      <td>20882</td>\n",
       "      <td>21</td>\n",
       "      <td>3139-03-19 00:00:00</td>\n",
       "      <td>3139-03-28 00:00:00</td>\n",
       "      <td>9 days</td>\n",
       "      <td>9.0</td>\n",
       "      <td>6</td>\n",
       "    </tr>\n",
       "    <tr>\n",
       "      <th>4</th>\n",
       "      <td>12532</td>\n",
       "      <td>12</td>\n",
       "      <td>2875-09-26 00:00:00</td>\n",
       "      <td>2875-10-09 00:00:00</td>\n",
       "      <td>13 days</td>\n",
       "      <td>13.0</td>\n",
       "      <td>3</td>\n",
       "    </tr>\n",
       "  </tbody>\n",
       "</table>\n",
       "</div>"
      ],
      "text/plain": [
       "   hadm_id  subject_id             admit_dt             disch_dt     LOS  \\\n",
       "0    28766          56  2644-01-17 00:00:00  2644-01-23 00:00:00  6 days   \n",
       "1     2075           3  2682-09-07 00:00:00  2682-09-18 00:00:00 11 days   \n",
       "2    20666          21  3138-10-29 00:00:00  3138-11-11 00:00:00 13 days   \n",
       "3    20882          21  3139-03-19 00:00:00  3139-03-28 00:00:00  9 days   \n",
       "4    12532          12  2875-09-26 00:00:00  2875-10-09 00:00:00 13 days   \n",
       "\n",
       "   LOS2  day of week  \n",
       "0   6.0            2  \n",
       "1  11.0            3  \n",
       "2  13.0            5  \n",
       "3   9.0            6  \n",
       "4  13.0            3  "
      ]
     },
     "execution_count": 27,
     "metadata": {},
     "output_type": "execute_result"
    }
   ],
   "source": [
    "hosps[\"day of week\"] = hosps.apply(lambda r:r[\"admit_dt\"].weekday(), axis =1)\n",
    "hosps.head()"
   ]
  },
  {
   "cell_type": "code",
   "execution_count": 29,
   "metadata": {},
   "outputs": [
    {
     "data": {
      "text/plain": [
       "<matplotlib.axes._subplots.AxesSubplot at 0x7f117a165940>"
      ]
     },
     "execution_count": 29,
     "metadata": {},
     "output_type": "execute_result"
    },
    {
     "data": {
      "image/png": "[encoded data removed]",
      "text/plain": [
       "<matplotlib.figure.Figure at 0x7f117bc9ada0>"
      ]
     },
     "metadata": {},
     "output_type": "display_data"
    }
   ],
   "source": [
    "hosps[\"day of week\"].plot.hist(bins=7)"
   ]
  },
  {
   "cell_type": "code",
   "execution_count": null,
   "metadata": {
    "collapsed": true
   },
   "outputs": [],
   "source": []
  }
 ],
 "metadata": {
  "kernelspec": {
   "display_name": "Python 3",
   "language": "python",
   "name": "python3"
  },
  "language_info": {
   "codemirror_mode": {
    "name": "ipython",
    "version": 3
   },
   "file_extension": ".py",
   "mimetype": "text/x-python",
   "name": "python",
   "nbconvert_exporter": "python",
   "pygments_lexer": "ipython3",
   "version": "3.5.2"
  }
 },
 "nbformat": 4,
 "nbformat_minor": 1
}
