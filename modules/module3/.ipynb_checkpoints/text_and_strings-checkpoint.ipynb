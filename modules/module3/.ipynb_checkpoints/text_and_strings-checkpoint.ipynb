{
 "cells": [
  {
   "cell_type": "markdown",
   "metadata": {},
   "source": [
    "<html>\n",
    "<table width=\"100%\" cellspacing=\"2\" cellpadding=\"2\" border=\"1\">\n",
    "<tbody>\n",
    "<tr>\n",
    "<td valign=\"center\" align=\"center\" width=\"25%\"><img src=\"../../media/decartes.jpg\"\n",
    "alt=\"DeCART Icon\" width=\"128\" height=\"171\"><br>\n",
    "</td>\n",
    "<td valign=\"center\" align=\"center\" width=\"75%\">\n",
    "<h1 align=\"center\"><font size=\"+3\">DeCART Summer School<br>\n",
    "for<br>\n",
    "Biomedical Data Science</font></h1></td>\n",
    "<td valign=\"center\" align=\"center\" width=\"25%\"><img\n",
    "src=\"../../media/U_Health_stacked_png_red.png\" alt=\"Utah Health\n",
    "Logo\" width=\"128\" height=\"134\"><br>\n",
    "</td>\n",
    "</tr>\n",
    "</tbody>\n",
    "</table>\n",
    "<br>\n",
    "</html>\n",
    "\n",
    "# Text and Medicine\n",
    "\n",
    "It is estimated that 75% of all information in the health record is in free-text form, such as radiology or pathology reports, nursing notes, and discharge summaries. Consequently, text processing is one of the most important data processing tasks in medicine.\n",
    "\n",
    "# Strings and Lists in Python\n",
    "\n",
    "Two of the most important data structures we will be using in Python are [strings](https://goo.gl/EEoJHd) and [lists](https://docs.python.org/3/library/stdtypes.html?highlight=strings#lists). While both are considered examples of sequences in Python, strings will be essentially a native data type for us, representing medical texts, genomic sequences, and ICD codes, for example, while lists and tuples will serve as collections where we keep related data."
   ]
  },
  {
   "cell_type": "code",
   "execution_count": 1,
   "metadata": {
    "collapsed": true
   },
   "outputs": [],
   "source": [
    "from quizzes.string_quizzes import *"
   ]
  },
  {
   "cell_type": "markdown",
   "metadata": {},
   "source": [
    "### Strings\n",
    "* Strings are **immutable** sequences of characters. \n",
    "    * Immutable is a very important. Once created strings cannot be modified. Instead of modifying a string we will always be creating a new string that is derived from our first string.\n",
    "\n"
   ]
  },
  {
   "cell_type": "markdown",
   "metadata": {},
   "source": [
    "Here are two example strings. ``code`` may look numeric but it is a unique identifier without numeric meaning."
   ]
  },
  {
   "cell_type": "code",
   "execution_count": 2,
   "metadata": {},
   "outputs": [
    {
     "name": "stdout",
     "output_type": "stream",
     "text": [
      "CHRONIC HEPATITIS C WITHOUT HEPATIC COMA\n",
      "070.54\n"
     ]
    }
   ],
   "source": [
    "description = 'CHRONIC HEPATITIS C WITHOUT HEPATIC COMA'\n",
    "code  = \"\"\"070.54\"\"\"\n",
    "\n",
    "print(description)\n",
    "print(code)"
   ]
  },
  {
   "cell_type": "markdown",
   "metadata": {},
   "source": [
    "In Python 3.x all strings are unicode strings composed of [unicode](https://en.wikipedia.org/wiki/Unicode) characters. Every unicode character has a unique ordinal position in the unicode definition so we can ask via the [``ord``](https://docs.python.org/3/library/functions.html#ord) function what ordinal number corresponds to a specific character or via the [``chr``](https://docs.python.org/3/library/functions.html#chr) function what character (if any, an arbitrary integer might exceed the number of characters in the code) corresponds to an ordinal number.\n",
    "\n",
    "The first 256 characters of a Unicode string are the ASCII characters:\n",
    "\n",
    "![Table of ASCII Characters](https://upload.wikimedia.org/wikipedia/commons/thumb/7/7b/Ascii_Table-nocolor.svg/800px-Ascii_Table-nocolor.svg.png)"
   ]
  },
  {
   "cell_type": "code",
   "execution_count": null,
   "metadata": {
    "collapsed": true
   },
   "outputs": [],
   "source": [
    "print(chr(89))\n",
    "print(chr(5674))\n",
    "\n",
    "print(ord(\"œ\"))\n",
    "\n",
    "print(ord(\"a\"))"
   ]
  },
  {
   "cell_type": "markdown",
   "metadata": {},
   "source": [
    "### Comparing Characters Means Comparing their ordinal value"
   ]
  },
  {
   "cell_type": "code",
   "execution_count": null,
   "metadata": {
    "collapsed": true
   },
   "outputs": [],
   "source": [
    "print('a' < 'A')\n",
    "print(\"aBc\" < \"abc\")"
   ]
  },
  {
   "cell_type": "markdown",
   "metadata": {},
   "source": [
    "In the evolution of computer character representations, English upper case letters were defined before lower case letters and thus have a lower ordinal value."
   ]
  },
  {
   "cell_type": "code",
   "execution_count": null,
   "metadata": {
    "collapsed": true
   },
   "outputs": [],
   "source": [
    "print(\".\" < \"A\")\n",
    "print(\".\" < \"1\")"
   ]
  },
  {
   "cell_type": "markdown",
   "metadata": {},
   "source": [
    "## Strings: Accessing Data\n",
    "* We can access individual characters in a string with a square bracket ([]) syntax.\n",
    "* Python sequences start at 0. That is, the first element in the sequence is accessed by the number 0 (zero).\n",
    "\n",
    "## Exercise\n",
    "For the string \n",
    "\n",
    "```Python\n",
    "mystring = \"\"\"Termination of Swan-Ganz catheter within the proximal right main pulmonary.\"\"\"\n",
    "```\n",
    "What is the value of ``mystring[19]``?"
   ]
  },
  {
   "cell_type": "code",
   "execution_count": null,
   "metadata": {
    "collapsed": true
   },
   "outputs": [],
   "source": [
    "string_index1_quiz(\"replace me with the character at mystring[19]\")"
   ]
  },
  {
   "cell_type": "markdown",
   "metadata": {},
   "source": [
    "## Exercise\n",
    "\n",
    "For ``mystring`` defined above, what do you think will happen if you type\n",
    "\n",
    "```Python\n",
    "mystring[-4]\n",
    "```\n",
    "?\n",
    "\n",
    "Test your guess below."
   ]
  },
  {
   "cell_type": "code",
   "execution_count": null,
   "metadata": {
    "collapsed": true
   },
   "outputs": [],
   "source": [
    "string_index2_quiz(\"replace me with your guess of the result for mystring[-4]\")"
   ]
  },
  {
   "cell_type": "markdown",
   "metadata": {},
   "source": [
    "## **Slicing**\n",
    "\n",
    "* You can access a segment of a string using a slicing notation: **STRING[start:stop:increment]**\n",
    "    * start is inclusive\n",
    "    * **stop is exclusive**\n",
    "* start, stop and increment all have default values\n",
    "    * start: 0\n",
    "    * stop: Length of string\n",
    "    * increment: 1"
   ]
  },
  {
   "cell_type": "code",
   "execution_count": null,
   "metadata": {
    "collapsed": true
   },
   "outputs": [],
   "source": [
    "print(description)\n",
    "print(description[0])\n",
    "print(description[5])\n",
    "print(description[0:13])\n",
    "print(description[13:])\n",
    "print(description[::2])"
   ]
  },
  {
   "cell_type": "markdown",
   "metadata": {},
   "source": [
    "## Exercise\n",
    "\n",
    "What are the slicing start and end indices needed to extract the substring \n",
    "```Python\n",
    "Swan-Ganz catheter\n",
    "```\n",
    "from ``mystring``?"
   ]
  },
  {
   "cell_type": "markdown",
   "metadata": {},
   "source": [
    "# Strings: Attributes and Methods\n",
    "* Strings are objects that have **attributes** and **methods**\n",
    "    * **attributes** think nouns (things strings have)\n",
    "    * **methods** think verbs (things strings do)\n",
    "* You can access **attributes** and **methods** using the 'dot' (.) notation\n",
    "* You can learn about the **attributes** and **methods** using tab completion and **help()**"
   ]
  },
  {
   "cell_type": "code",
   "execution_count": null,
   "metadata": {
    "collapsed": true
   },
   "outputs": [],
   "source": [
    "description.isupper()"
   ]
  },
  {
   "cell_type": "code",
   "execution_count": null,
   "metadata": {
    "collapsed": true
   },
   "outputs": [],
   "source": [
    "help(code.isalnum)"
   ]
  },
  {
   "cell_type": "code",
   "execution_count": null,
   "metadata": {
    "collapsed": true
   },
   "outputs": [],
   "source": [
    "code.isalnum()"
   ]
  },
  {
   "cell_type": "markdown",
   "metadata": {},
   "source": [
    "Why did this evaluate to False?"
   ]
  },
  {
   "cell_type": "markdown",
   "metadata": {},
   "source": [
    "##  Splitting Strings\n",
    "\n",
    "A common manipulation of strings is splitting a string into a list of substrings\n",
    "* Split the string with a specified delimiter (defaults to a white space)\n",
    "* Returns a **list** (to be discussed later) of substrings"
   ]
  },
  {
   "cell_type": "code",
   "execution_count": null,
   "metadata": {
    "collapsed": true
   },
   "outputs": [],
   "source": [
    "a = '1,2,3,4,5'\n",
    "help(a.split)"
   ]
  },
  {
   "cell_type": "code",
   "execution_count": null,
   "metadata": {
    "collapsed": true
   },
   "outputs": [],
   "source": [
    "a.split()"
   ]
  },
  {
   "cell_type": "code",
   "execution_count": null,
   "metadata": {
    "collapsed": true
   },
   "outputs": [],
   "source": [
    "a.split(',')"
   ]
  },
  {
   "cell_type": "code",
   "execution_count": null,
   "metadata": {
    "collapsed": true
   },
   "outputs": [],
   "source": [
    "note =\"\"\"resp care\n",
    "pt received on psv mode, per team peep placed back on at 5 cmH20. initially pt requiring ps 12, now on 8 for progression of weaning. tolerating fair with rr approx 25-32 range. mdi's given q4h, flovent started at 8 p. bid. cuff leak seems more constant today, ?worse with peep on, cuff pressure kept at 30 cmH20 with 10 cc's in cuff, to seal it would require cuff pressure of 45 cmh20. IP evaluated and chooses not to replace trach at this time, maintain cuff pressure at 30. c/w slow wean, progress to trach mask as soon as possible.\"\"\"\n",
    "\n",
    "print(note.split())"
   ]
  },
  {
   "cell_type": "markdown",
   "metadata": {},
   "source": [
    "##  Joining Strings\n",
    "* **join()** is the inverse of **split()**\n",
    "* Base string becomes the delimiter"
   ]
  },
  {
   "cell_type": "code",
   "execution_count": null,
   "metadata": {
    "collapsed": true
   },
   "outputs": [],
   "source": [
    "number_list = a.split(\",\")\n",
    "print(number_list)\n",
    "print(''.join(number_list))"
   ]
  },
  {
   "cell_type": "code",
   "execution_count": null,
   "metadata": {
    "collapsed": true
   },
   "outputs": [],
   "source": [
    "print( ' '.join(number_list))"
   ]
  },
  {
   "cell_type": "code",
   "execution_count": null,
   "metadata": {
    "collapsed": true
   },
   "outputs": [],
   "source": [
    "print(','.join(number_list))\n",
    "\n",
    "print(', '.join(number_list))\n",
    "print( 'this will look messy'.join(number_list))         "
   ]
  },
  {
   "cell_type": "markdown",
   "metadata": {},
   "source": [
    "# String methods for preprocessing/modifying\n",
    "* Note that since strings are **immutable** these methods don't change the string, but return a *new* string\n",
    "* **lower()**: converts all characters to lower case\n",
    "* **upper()**: converts all characters to upper case\n",
    "* **replace(a,b)**: replaces all occurrences of a in string with b (e.g., replacing tabs with spaces)"
   ]
  },
  {
   "cell_type": "code",
   "execution_count": null,
   "metadata": {
    "collapsed": true
   },
   "outputs": [],
   "source": [
    "note2 = \"\"\"PLANL: Admin K-excelate. 3% NS with q2h Na levels. Neuro exam q1h. Monitor I/O, resp status. MRI today after questionaire completed. Call H.O. with changes.\"\"\"\n",
    "print(note2.upper())\n",
    "print(\"-\"*42)\n",
    "print(note2.lower())\n",
    "print(\"-\"*42)\n",
    "print(note2)"
   ]
  },
  {
   "cell_type": "code",
   "execution_count": null,
   "metadata": {
    "collapsed": true
   },
   "outputs": [],
   "source": [
    "print(note2.swapcase())\n",
    "print(\"-\"*42)\n",
    "\n",
    "print(note2.replace('a','Z'))\n",
    "print(\"-\"*42)\n",
    "\n",
    "print(note2.replace(' ','')) # replace spaces with empty string"
   ]
  }
 ],
 "metadata": {
  "kernelspec": {
   "display_name": "Python 3",
   "language": "python",
   "name": "python3"
  },
  "language_info": {
   "codemirror_mode": {
    "name": "ipython",
    "version": 3
   },
   "file_extension": ".py",
   "mimetype": "text/x-python",
   "name": "python",
   "nbconvert_exporter": "python",
   "pygments_lexer": "ipython3",
   "version": "3.5.2"
  }
 },
 "nbformat": 4,
 "nbformat_minor": 1
}
