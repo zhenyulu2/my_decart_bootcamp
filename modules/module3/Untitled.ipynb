{
 "cells": [
  {
   "cell_type": "code",
   "execution_count": 35,
   "metadata": {
    "collapsed": true
   },
   "outputs": [],
   "source": [
    "import pandas as pd\n",
    "import numpy as np\n",
    "import os\n",
    "import random"
   ]
  },
  {
   "cell_type": "code",
   "execution_count": 7,
   "metadata": {},
   "outputs": [],
   "source": [
    "DATADIR = \"/home/jovyan/DATA/Numerics/mimic2/bp/subjects/\"\n",
    "data = os.listdir(\"/home/jovyan/DATA/Numerics/mimic2/bp/subjects/\")"
   ]
  },
  {
   "cell_type": "code",
   "execution_count": 9,
   "metadata": {},
   "outputs": [],
   "source": [
    "with open(os.path.join(DATADIR, random.choice(data))) as f0:\n",
    "    values = f0.readlines()"
   ]
  },
  {
   "cell_type": "code",
   "execution_count": 11,
   "metadata": {},
   "outputs": [
    {
     "data": {
      "text/plain": [
       "(list, 461)"
      ]
     },
     "execution_count": 11,
     "metadata": {},
     "output_type": "execute_result"
    }
   ],
   "source": [
    "type(values), len(values)"
   ]
  },
  {
   "cell_type": "code",
   "execution_count": 12,
   "metadata": {},
   "outputs": [
    {
     "data": {
      "text/plain": [
       "['150\\t96\\n', '129\\t73\\n', '135\\t79\\n', '123\\t75\\n']"
      ]
     },
     "execution_count": 12,
     "metadata": {},
     "output_type": "execute_result"
    }
   ],
   "source": [
    "values[:4]"
   ]
  },
  {
   "cell_type": "code",
   "execution_count": 23,
   "metadata": {},
   "outputs": [
    {
     "data": {
      "text/plain": [
       "'129\\t73\\n'"
      ]
     },
     "execution_count": 23,
     "metadata": {},
     "output_type": "execute_result"
    }
   ],
   "source": [
    "values[1]"
   ]
  },
  {
   "cell_type": "code",
   "execution_count": 14,
   "metadata": {},
   "outputs": [
    {
     "data": {
      "text/plain": [
       "['129\\t73\\n']"
      ]
     },
     "execution_count": 14,
     "metadata": {},
     "output_type": "execute_result"
    }
   ],
   "source": [
    "values[1].split(\",\")"
   ]
  },
  {
   "cell_type": "code",
   "execution_count": 15,
   "metadata": {},
   "outputs": [
    {
     "data": {
      "text/plain": [
       "['129', '73']"
      ]
     },
     "execution_count": 15,
     "metadata": {},
     "output_type": "execute_result"
    }
   ],
   "source": [
    "values[1].split()"
   ]
  },
  {
   "cell_type": "code",
   "execution_count": null,
   "metadata": {
    "collapsed": true
   },
   "outputs": [],
   "source": [
    "values_part2 = [for line in values]"
   ]
  },
  {
   "cell_type": "code",
   "execution_count": 16,
   "metadata": {},
   "outputs": [
    {
     "name": "stdout",
     "output_type": "stream",
     "text": [
      "150\t96\n",
      "\n",
      "129\t73\n",
      "\n",
      "135\t79\n",
      "\n",
      "123\t75\n",
      "\n",
      "127\t80\n",
      "\n"
     ]
    }
   ],
   "source": [
    "for line in values[:5]:\n",
    "    print(line)"
   ]
  },
  {
   "cell_type": "code",
   "execution_count": 21,
   "metadata": {},
   "outputs": [
    {
     "name": "stdout",
     "output_type": "stream",
     "text": [
      "150\t96\n",
      ",129\t73\n",
      ",135\t79\n",
      ",123\t75\n",
      ",127\t80\n",
      ","
     ]
    }
   ],
   "source": [
    "for line in values[:5]:\n",
    "    print(line, end =\",\")"
   ]
  },
  {
   "cell_type": "code",
   "execution_count": 17,
   "metadata": {},
   "outputs": [
    {
     "name": "stdout",
     "output_type": "stream",
     "text": [
      "['150', '96']\n",
      "['129', '73']\n",
      "['135', '79']\n",
      "['123', '75']\n",
      "['127', '80']\n"
     ]
    }
   ],
   "source": [
    "for line in values[:5]:\n",
    "    print(line.split())"
   ]
  },
  {
   "cell_type": "code",
   "execution_count": 19,
   "metadata": {},
   "outputs": [
    {
     "name": "stdout",
     "output_type": "stream",
     "text": [
      "150.0,96.0,\n",
      "129.0,73.0,\n",
      "135.0,79.0,\n",
      "123.0,75.0,\n",
      "127.0,80.0,\n"
     ]
    }
   ],
   "source": [
    "for line in values[:5]:\n",
    "    l= line.split()\n",
    "    for ll in l:\n",
    "        print(float(ll), end =\",\")\n",
    "    print()"
   ]
  },
  {
   "cell_type": "code",
   "execution_count": 22,
   "metadata": {},
   "outputs": [
    {
     "name": "stdout",
     "output_type": "stream",
     "text": [
      "[[150.0, 96.0], [129.0, 73.0], [135.0, 79.0], [123.0, 75.0], [127.0, 80.0]]\n"
     ]
    }
   ],
   "source": [
    "mydata = []\n",
    "for line in values[:5]:\n",
    "    l = line.split()\n",
    "    nums = [float(ll) for ll in l]\n",
    "    mydata.append(nums)\n",
    "print(mydata)"
   ]
  },
  {
   "cell_type": "code",
   "execution_count": 26,
   "metadata": {},
   "outputs": [],
   "source": [
    "fname = \"Accidents7904.csv\"\n",
    "with open(os.path.join(\"/home/jovyan/DATA/Misc/\",fname)) as f0:\n",
    "    accident_values = f0.readlines(500000)"
   ]
  },
  {
   "cell_type": "code",
   "execution_count": 36,
   "metadata": {},
   "outputs": [
    {
     "data": {
      "text/html": [
       "<div>\n",
       "<table border=\"1\" class=\"dataframe\">\n",
       "  <thead>\n",
       "    <tr style=\"text-align: right;\">\n",
       "      <th></th>\n",
       "      <th>Accident_Index</th>\n",
       "      <th>Location_Easting_OSGR</th>\n",
       "      <th>Location_Northing_OSGR</th>\n",
       "      <th>Longitude</th>\n",
       "      <th>Latitude</th>\n",
       "      <th>Police_Force</th>\n",
       "      <th>Accident_Severity</th>\n",
       "      <th>Number_of_Vehicles</th>\n",
       "      <th>Number_of_Casualties</th>\n",
       "      <th>Date</th>\n",
       "      <th>...</th>\n",
       "      <th>Pedestrian_Crossing-Human_Control</th>\n",
       "      <th>Pedestrian_Crossing-Physical_Facilities</th>\n",
       "      <th>Light_Conditions</th>\n",
       "      <th>Weather_Conditions</th>\n",
       "      <th>Road_Surface_Conditions</th>\n",
       "      <th>Special_Conditions_at_Site</th>\n",
       "      <th>Carriageway_Hazards</th>\n",
       "      <th>Urban_or_Rural_Area</th>\n",
       "      <th>Did_Police_Officer_Attend_Scene_of_Accident</th>\n",
       "      <th>LSOA_of_Accident_Location</th>\n",
       "    </tr>\n",
       "  </thead>\n",
       "  <tbody>\n",
       "    <tr>\n",
       "      <th>3995</th>\n",
       "      <td>197901B3XGQ01</td>\n",
       "      <td>334960.0</td>\n",
       "      <td>821000.0</td>\n",
       "      <td>NaN</td>\n",
       "      <td>NaN</td>\n",
       "      <td>1</td>\n",
       "      <td>3</td>\n",
       "      <td>1</td>\n",
       "      <td>1</td>\n",
       "      <td>03/02/1979</td>\n",
       "      <td>...</td>\n",
       "      <td>-1</td>\n",
       "      <td>-1</td>\n",
       "      <td>4</td>\n",
       "      <td>8</td>\n",
       "      <td>1</td>\n",
       "      <td>-1</td>\n",
       "      <td>0</td>\n",
       "      <td>-1</td>\n",
       "      <td>-1</td>\n",
       "      <td>NaN</td>\n",
       "    </tr>\n",
       "    <tr>\n",
       "      <th>3996</th>\n",
       "      <td>197901B3XHD35</td>\n",
       "      <td>368880.0</td>\n",
       "      <td>975000.0</td>\n",
       "      <td>NaN</td>\n",
       "      <td>NaN</td>\n",
       "      <td>1</td>\n",
       "      <td>2</td>\n",
       "      <td>3</td>\n",
       "      <td>7</td>\n",
       "      <td>03/02/1979</td>\n",
       "      <td>...</td>\n",
       "      <td>-1</td>\n",
       "      <td>-1</td>\n",
       "      <td>4</td>\n",
       "      <td>8</td>\n",
       "      <td>1</td>\n",
       "      <td>-1</td>\n",
       "      <td>0</td>\n",
       "      <td>-1</td>\n",
       "      <td>-1</td>\n",
       "      <td>NaN</td>\n",
       "    </tr>\n",
       "    <tr>\n",
       "      <th>3997</th>\n",
       "      <td>197901B3XKD53</td>\n",
       "      <td>521780.0</td>\n",
       "      <td>273000.0</td>\n",
       "      <td>NaN</td>\n",
       "      <td>NaN</td>\n",
       "      <td>1</td>\n",
       "      <td>2</td>\n",
       "      <td>2</td>\n",
       "      <td>3</td>\n",
       "      <td>03/02/1979</td>\n",
       "      <td>...</td>\n",
       "      <td>-1</td>\n",
       "      <td>-1</td>\n",
       "      <td>4</td>\n",
       "      <td>8</td>\n",
       "      <td>1</td>\n",
       "      <td>-1</td>\n",
       "      <td>0</td>\n",
       "      <td>-1</td>\n",
       "      <td>-1</td>\n",
       "      <td>NaN</td>\n",
       "    </tr>\n",
       "    <tr>\n",
       "      <th>3998</th>\n",
       "      <td>197901B3XLC98</td>\n",
       "      <td>316070.0</td>\n",
       "      <td>448000.0</td>\n",
       "      <td>NaN</td>\n",
       "      <td>NaN</td>\n",
       "      <td>1</td>\n",
       "      <td>2</td>\n",
       "      <td>2</td>\n",
       "      <td>2</td>\n",
       "      <td>03/02/1979</td>\n",
       "      <td>...</td>\n",
       "      <td>-1</td>\n",
       "      <td>-1</td>\n",
       "      <td>4</td>\n",
       "      <td>8</td>\n",
       "      <td>1</td>\n",
       "      <td>-1</td>\n",
       "      <td>0</td>\n",
       "      <td>-1</td>\n",
       "      <td>-1</td>\n",
       "      <td>NaN</td>\n",
       "    </tr>\n",
       "    <tr>\n",
       "      <th>3999</th>\n",
       "      <td>197901B3XLD88</td>\n",
       "      <td>507570.0</td>\n",
       "      <td>468000.0</td>\n",
       "      <td>NaN</td>\n",
       "      <td>NaN</td>\n",
       "      <td>1</td>\n",
       "      <td>2</td>\n",
       "      <td>1</td>\n",
       "      <td>1</td>\n",
       "      <td>03/02/1979</td>\n",
       "      <td>...</td>\n",
       "      <td>-1</td>\n",
       "      <td>-1</td>\n",
       "      <td>4</td>\n",
       "      <td>8</td>\n",
       "      <td>1</td>\n",
       "      <td>-1</td>\n",
       "      <td>0</td>\n",
       "      <td>-1</td>\n",
       "      <td>-1</td>\n",
       "      <td>NaN</td>\n",
       "    </tr>\n",
       "  </tbody>\n",
       "</table>\n",
       "<p>5 rows × 32 columns</p>\n",
       "</div>"
      ],
      "text/plain": [
       "     Accident_Index  Location_Easting_OSGR  Location_Northing_OSGR  Longitude  \\\n",
       "3995  197901B3XGQ01               334960.0                821000.0        NaN   \n",
       "3996  197901B3XHD35               368880.0                975000.0        NaN   \n",
       "3997  197901B3XKD53               521780.0                273000.0        NaN   \n",
       "3998  197901B3XLC98               316070.0                448000.0        NaN   \n",
       "3999  197901B3XLD88               507570.0                468000.0        NaN   \n",
       "\n",
       "      Latitude  Police_Force  Accident_Severity  Number_of_Vehicles  \\\n",
       "3995       NaN             1                  3                   1   \n",
       "3996       NaN             1                  2                   3   \n",
       "3997       NaN             1                  2                   2   \n",
       "3998       NaN             1                  2                   2   \n",
       "3999       NaN             1                  2                   1   \n",
       "\n",
       "      Number_of_Casualties        Date            ...              \\\n",
       "3995                     1  03/02/1979            ...               \n",
       "3996                     7  03/02/1979            ...               \n",
       "3997                     3  03/02/1979            ...               \n",
       "3998                     2  03/02/1979            ...               \n",
       "3999                     1  03/02/1979            ...               \n",
       "\n",
       "      Pedestrian_Crossing-Human_Control  \\\n",
       "3995                                 -1   \n",
       "3996                                 -1   \n",
       "3997                                 -1   \n",
       "3998                                 -1   \n",
       "3999                                 -1   \n",
       "\n",
       "     Pedestrian_Crossing-Physical_Facilities  Light_Conditions  \\\n",
       "3995                                      -1                 4   \n",
       "3996                                      -1                 4   \n",
       "3997                                      -1                 4   \n",
       "3998                                      -1                 4   \n",
       "3999                                      -1                 4   \n",
       "\n",
       "      Weather_Conditions  Road_Surface_Conditions  Special_Conditions_at_Site  \\\n",
       "3995                   8                        1                          -1   \n",
       "3996                   8                        1                          -1   \n",
       "3997                   8                        1                          -1   \n",
       "3998                   8                        1                          -1   \n",
       "3999                   8                        1                          -1   \n",
       "\n",
       "      Carriageway_Hazards  Urban_or_Rural_Area  \\\n",
       "3995                    0                   -1   \n",
       "3996                    0                   -1   \n",
       "3997                    0                   -1   \n",
       "3998                    0                   -1   \n",
       "3999                    0                   -1   \n",
       "\n",
       "      Did_Police_Officer_Attend_Scene_of_Accident  LSOA_of_Accident_Location  \n",
       "3995                                           -1                        NaN  \n",
       "3996                                           -1                        NaN  \n",
       "3997                                           -1                        NaN  \n",
       "3998                                           -1                        NaN  \n",
       "3999                                           -1                        NaN  \n",
       "\n",
       "[5 rows x 32 columns]"
      ]
     },
     "execution_count": 36,
     "metadata": {},
     "output_type": "execute_result"
    }
   ],
   "source": [
    "accidents2 = pd.read_csv(os.path.join(\"/home/jovyan/DATA/Misc/\",fname), nrows =4000)\n",
    "accidents2.tail()"
   ]
  },
  {
   "cell_type": "code",
   "execution_count": 44,
   "metadata": {},
   "outputs": [
    {
     "data": {
      "text/html": [
       "<div>\n",
       "<table border=\"1\" class=\"dataframe\">\n",
       "  <thead>\n",
       "    <tr style=\"text-align: right;\">\n",
       "      <th></th>\n",
       "      <th>197901B3XEK70</th>\n",
       "      <th>127780</th>\n",
       "      <th>280000</th>\n",
       "      <th>NULL</th>\n",
       "      <th>NULL.1</th>\n",
       "      <th>1</th>\n",
       "      <th>3</th>\n",
       "      <th>1.1</th>\n",
       "      <th>1.2</th>\n",
       "      <th>03/02/1979</th>\n",
       "      <th>...</th>\n",
       "      <th>-1.2</th>\n",
       "      <th>-1.3</th>\n",
       "      <th>4.2</th>\n",
       "      <th>8</th>\n",
       "      <th>1.3</th>\n",
       "      <th>-1.4</th>\n",
       "      <th>0</th>\n",
       "      <th>-1.5</th>\n",
       "      <th>-1.6</th>\n",
       "      <th>Unnamed: 31</th>\n",
       "    </tr>\n",
       "  </thead>\n",
       "  <tbody>\n",
       "    <tr>\n",
       "      <th>3995</th>\n",
       "      <td>197901C9QLE63</td>\n",
       "      <td>94570.0</td>\n",
       "      <td>913000.0</td>\n",
       "      <td>NaN</td>\n",
       "      <td>NaN</td>\n",
       "      <td>1</td>\n",
       "      <td>3</td>\n",
       "      <td>2</td>\n",
       "      <td>1</td>\n",
       "      <td>09/03/1979</td>\n",
       "      <td>...</td>\n",
       "      <td>-1</td>\n",
       "      <td>-1</td>\n",
       "      <td>1</td>\n",
       "      <td>8</td>\n",
       "      <td>1</td>\n",
       "      <td>-1</td>\n",
       "      <td>0</td>\n",
       "      <td>-1</td>\n",
       "      <td>-1</td>\n",
       "      <td>NaN</td>\n",
       "    </tr>\n",
       "    <tr>\n",
       "      <th>3996</th>\n",
       "      <td>197901C9RAD31</td>\n",
       "      <td>391590.0</td>\n",
       "      <td>461000.0</td>\n",
       "      <td>NaN</td>\n",
       "      <td>NaN</td>\n",
       "      <td>1</td>\n",
       "      <td>3</td>\n",
       "      <td>1</td>\n",
       "      <td>1</td>\n",
       "      <td>09/03/1979</td>\n",
       "      <td>...</td>\n",
       "      <td>0</td>\n",
       "      <td>1</td>\n",
       "      <td>1</td>\n",
       "      <td>8</td>\n",
       "      <td>1</td>\n",
       "      <td>-1</td>\n",
       "      <td>0</td>\n",
       "      <td>-1</td>\n",
       "      <td>-1</td>\n",
       "      <td>NaN</td>\n",
       "    </tr>\n",
       "    <tr>\n",
       "      <th>3997</th>\n",
       "      <td>197901C9RAF12</td>\n",
       "      <td>338890.0</td>\n",
       "      <td>152000.0</td>\n",
       "      <td>NaN</td>\n",
       "      <td>NaN</td>\n",
       "      <td>1</td>\n",
       "      <td>3</td>\n",
       "      <td>1</td>\n",
       "      <td>1</td>\n",
       "      <td>09/03/1979</td>\n",
       "      <td>...</td>\n",
       "      <td>-1</td>\n",
       "      <td>-1</td>\n",
       "      <td>1</td>\n",
       "      <td>8</td>\n",
       "      <td>2</td>\n",
       "      <td>-1</td>\n",
       "      <td>0</td>\n",
       "      <td>-1</td>\n",
       "      <td>-1</td>\n",
       "      <td>NaN</td>\n",
       "    </tr>\n",
       "    <tr>\n",
       "      <th>3998</th>\n",
       "      <td>197901C9RAV74</td>\n",
       "      <td>407580.0</td>\n",
       "      <td>234000.0</td>\n",
       "      <td>NaN</td>\n",
       "      <td>NaN</td>\n",
       "      <td>1</td>\n",
       "      <td>3</td>\n",
       "      <td>1</td>\n",
       "      <td>1</td>\n",
       "      <td>09/03/1979</td>\n",
       "      <td>...</td>\n",
       "      <td>-1</td>\n",
       "      <td>-1</td>\n",
       "      <td>1</td>\n",
       "      <td>8</td>\n",
       "      <td>1</td>\n",
       "      <td>-1</td>\n",
       "      <td>2</td>\n",
       "      <td>-1</td>\n",
       "      <td>-1</td>\n",
       "      <td>NaN</td>\n",
       "    </tr>\n",
       "    <tr>\n",
       "      <th>3999</th>\n",
       "      <td>197901C9RBV73</td>\n",
       "      <td>407480.0</td>\n",
       "      <td>233000.0</td>\n",
       "      <td>NaN</td>\n",
       "      <td>NaN</td>\n",
       "      <td>1</td>\n",
       "      <td>3</td>\n",
       "      <td>1</td>\n",
       "      <td>2</td>\n",
       "      <td>09/03/1979</td>\n",
       "      <td>...</td>\n",
       "      <td>-1</td>\n",
       "      <td>-1</td>\n",
       "      <td>1</td>\n",
       "      <td>8</td>\n",
       "      <td>1</td>\n",
       "      <td>-1</td>\n",
       "      <td>2</td>\n",
       "      <td>-1</td>\n",
       "      <td>-1</td>\n",
       "      <td>NaN</td>\n",
       "    </tr>\n",
       "  </tbody>\n",
       "</table>\n",
       "<p>5 rows × 32 columns</p>\n",
       "</div>"
      ],
      "text/plain": [
       "      197901B3XEK70    127780    280000  NULL  NULL.1  1  3  1.1  1.2  \\\n",
       "3995  197901C9QLE63   94570.0  913000.0   NaN     NaN  1  3    2    1   \n",
       "3996  197901C9RAD31  391590.0  461000.0   NaN     NaN  1  3    1    1   \n",
       "3997  197901C9RAF12  338890.0  152000.0   NaN     NaN  1  3    1    1   \n",
       "3998  197901C9RAV74  407580.0  234000.0   NaN     NaN  1  3    1    1   \n",
       "3999  197901C9RBV73  407480.0  233000.0   NaN     NaN  1  3    1    2   \n",
       "\n",
       "      03/02/1979     ...       -1.2 -1.3  4.2  8  1.3  -1.4  0  -1.5  -1.6  \\\n",
       "3995  09/03/1979     ...         -1   -1    1  8    1    -1  0    -1    -1   \n",
       "3996  09/03/1979     ...          0    1    1  8    1    -1  0    -1    -1   \n",
       "3997  09/03/1979     ...         -1   -1    1  8    2    -1  0    -1    -1   \n",
       "3998  09/03/1979     ...         -1   -1    1  8    1    -1  2    -1    -1   \n",
       "3999  09/03/1979     ...         -1   -1    1  8    1    -1  2    -1    -1   \n",
       "\n",
       "      Unnamed: 31  \n",
       "3995          NaN  \n",
       "3996          NaN  \n",
       "3997          NaN  \n",
       "3998          NaN  \n",
       "3999          NaN  \n",
       "\n",
       "[5 rows x 32 columns]"
      ]
     },
     "execution_count": 44,
     "metadata": {},
     "output_type": "execute_result"
    }
   ],
   "source": [
    "accidents2 = pd.read_csv(os.path.join(\"/home/jovyan/DATA/Misc/\",fname), nrows =4000, skiprows = 3995)\n",
    "accidents2.tail()"
   ]
  },
  {
   "cell_type": "code",
   "execution_count": 27,
   "metadata": {},
   "outputs": [
    {
     "data": {
      "text/plain": [
       "4281"
      ]
     },
     "execution_count": 27,
     "metadata": {},
     "output_type": "execute_result"
    }
   ],
   "source": [
    "len(accident_values)"
   ]
  },
  {
   "cell_type": "code",
   "execution_count": 28,
   "metadata": {},
   "outputs": [
    {
     "data": {
      "text/plain": [
       "'197901A1FBK75,136380,245000,NULL,NULL,1,3,2,1,01/01/1979,2,05:05,27,9999,4,455,9,30,0,-1,-1,0,-1,-1,4,8,3,-1,0,-1,-1,\\n'"
      ]
     },
     "execution_count": 28,
     "metadata": {},
     "output_type": "execute_result"
    }
   ],
   "source": [
    "accident_values[10]"
   ]
  },
  {
   "cell_type": "code",
   "execution_count": 30,
   "metadata": {},
   "outputs": [
    {
     "data": {
      "text/plain": [
       "['197901A1FBK75',\n",
       " '136380',\n",
       " '245000',\n",
       " 'NULL',\n",
       " 'NULL',\n",
       " '1',\n",
       " '3',\n",
       " '2',\n",
       " '1',\n",
       " '01/01/1979',\n",
       " '2',\n",
       " '05:05',\n",
       " '27',\n",
       " '9999',\n",
       " '4',\n",
       " '455',\n",
       " '9',\n",
       " '30',\n",
       " '0',\n",
       " '-1',\n",
       " '-1',\n",
       " '0',\n",
       " '-1',\n",
       " '-1',\n",
       " '4',\n",
       " '8',\n",
       " '3',\n",
       " '-1',\n",
       " '0',\n",
       " '-1',\n",
       " '-1',\n",
       " '\\n']"
      ]
     },
     "execution_count": 30,
     "metadata": {},
     "output_type": "execute_result"
    }
   ],
   "source": [
    "accident_values[10].split(',')"
   ]
  },
  {
   "cell_type": "code",
   "execution_count": 29,
   "metadata": {},
   "outputs": [
    {
     "name": "stdout",
     "output_type": "stream",
     "text": [
      "﻿Accident_Index\n",
      "Location_Easting_OSGR\n",
      "Location_Northing_OSGR\n",
      "Longitude\n",
      "Latitude\n",
      "Police_Force\n",
      "Accident_Severity\n",
      "Number_of_Vehicles\n",
      "Number_of_Casualties\n",
      "Date\n",
      "Day_of_Week\n",
      "Time\n",
      "Local_Authority_(District)\n",
      "Local_Authority_(Highway)\n",
      "1st_Road_Class\n",
      "1st_Road_Number\n",
      "Road_Type\n",
      "Speed_limit\n",
      "Junction_Detail\n",
      "Junction_Control\n",
      "2nd_Road_Class\n",
      "2nd_Road_Number\n",
      "Pedestrian_Crossing-Human_Control\n",
      "Pedestrian_Crossing-Physical_Facilities\n",
      "Light_Conditions\n",
      "Weather_Conditions\n",
      "Road_Surface_Conditions\n",
      "Special_Conditions_at_Site\n",
      "Carriageway_Hazards\n",
      "Urban_or_Rural_Area\n",
      "Did_Police_Officer_Attend_Scene_of_Accident\n",
      "LSOA_of_Accident_Location\n",
      "\n"
     ]
    }
   ],
   "source": [
    "for h in accident_values[0].split(\",\"):\n",
    "    print(h)"
   ]
  },
  {
   "cell_type": "code",
   "execution_count": null,
   "metadata": {
    "collapsed": true
   },
   "outputs": [],
   "source": []
  },
  {
   "cell_type": "code",
   "execution_count": null,
   "metadata": {
    "collapsed": true
   },
   "outputs": [],
   "source": []
  }
 ],
 "metadata": {
  "kernelspec": {
   "display_name": "Python 3",
   "language": "python",
   "name": "python3"
  },
  "language_info": {
   "codemirror_mode": {
    "name": "ipython",
    "version": 3
   },
   "file_extension": ".py",
   "mimetype": "text/x-python",
   "name": "python",
   "nbconvert_exporter": "python",
   "pygments_lexer": "ipython3",
   "version": "3.5.2"
  }
 },
 "nbformat": 4,
 "nbformat_minor": 2
}
