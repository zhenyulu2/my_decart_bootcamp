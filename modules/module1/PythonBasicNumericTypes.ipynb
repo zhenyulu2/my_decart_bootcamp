{
 "cells": [
  {
   "cell_type": "markdown",
   "metadata": {},
   "source": [
    "<html>\n",
    "<table width=\"100%\" cellspacing=\"2\" cellpadding=\"2\" border=\"1\">\n",
    "<tbody>\n",
    "<tr>\n",
    "<td valign=\"center\" align=\"center\" width=\"25%\"><img src=\"../../media/decartes.jpg\"\n",
    "alt=\"DeCART Icon\" width=\"128\" height=\"171\"><br>\n",
    "</td>\n",
    "<td valign=\"center\" align=\"center\" width=\"75%\">\n",
    "<h1 align=\"center\"><font size=\"+3\">DeCART Summer School<br>\n",
    "for<br>\n",
    "Biomedical Data Science</font></h1></td>\n",
    "<td valign=\"center\" align=\"center\" width=\"25%\"><img\n",
    "src=\"../../media/U_Health_stacked_png_red.png\" alt=\"Utah Health\n",
    "Logo\" width=\"128\" height=\"134\"><br>\n",
    "</td>\n",
    "</tr>\n",
    "</tbody>\n",
    "</table>\n",
    "<br>\n",
    "</html>\n"
   ]
  },
  {
   "cell_type": "markdown",
   "metadata": {},
   "source": [
    "#  Numerics\n",
    "\n",
    "There are multiple types of numbers, each arising from different uses that generated them.\n",
    "\n",
    ">Numbers arose from the formalization of two different human-cognitive conceptions: counting and measurement. Based on fossil records, anthropologists believe that both concepts existed and were used many thousands of years before numbers were introduced. As early as 35,000 years ago, humans put notches into bones (and probably wooden sticks as well, but none have survived and been found) to record things---possibly the cycles of the moon or the seasons---and it seems probable they used sticks or lengths of vine to measure lengths. Numbers themselves, however---abstractions that stand for the number of notches on a bone or the length of a measuring device---appear to have first appeared much later, around 10,000 years ago in the case of counting collections. \n",
    ">\n",
    ">These activities resulted in two different kinds of number: the discrete counting numbers and the continuous real numbers. The connection between these two kinds of numbers was not finally put onto a firm footing until the nineteenth century, with the construction of the modern real number system. (Keith Devlin *Introduction to Mathematical Thinking*, p. 75) \n",
    "\n",
    "There are more than two types of numbers (see [Peter Alfeld's page](http://www.math.utah.edu/~pa/math/numbers.html)) and Python has two distinct types of numbers (five really, but we're going to ignore types 3, 4, and 5). Before we get into Python, let's review differnt types of numbers and talk about how we can represent them in a computer.\n",
    "\n",
    "### To Simplify\n",
    "\n",
    "#### Counting Numbers (Integers)\n",
    "#### Measuring Numbers (Reals)"
   ]
  },
  {
   "cell_type": "markdown",
   "metadata": {},
   "source": [
    "#  Numerics\n",
    "## Two Python Numeric Types\n",
    "* Integers: **roughly corresponding** to the Integers ($\\mathbb{Z}$) of mathematics.\n",
    "* Floating Point Numbers: **roughly corresponding** to the Reals ($\\mathbb{R}$) of mathematics.\n",
    "\n",
    "\n",
    "### Why \"roughly corresponding\"?\n",
    "There are an infinitely many integers and real numbers. A computer consisting of a finite number of transitors cannot represent an infinite number of numbers, so there are design decisions that determine how large or small a number can be represented.\n"
   ]
  },
  {
   "cell_type": "markdown",
   "metadata": {},
   "source": [
    "### Python Integers"
   ]
  },
  {
   "cell_type": "code",
   "execution_count": 1,
   "metadata": {},
   "outputs": [
    {
     "name": "stdout",
     "output_type": "stream",
     "text": [
      "maximum float 1.7976931348623157e+308\n",
      "minimum float 2.2250738585072014e-308\n",
      "epislon 2.220446049250313e-16\n"
     ]
    }
   ],
   "source": [
    "import sys\n",
    "print(\"maximum float\",sys.float_info.max)\n",
    "print(\"minimum float\",sys.float_info.min)\n",
    "print(\"epislon\",sys.float_info.epsilon)"
   ]
  },
  {
   "cell_type": "code",
   "execution_count": 3,
   "metadata": {},
   "outputs": [
    {
     "name": "stdout",
     "output_type": "stream",
     "text": [
      "Help on float object:\n",
      "\n",
      "class float(object)\n",
      " |  float(x) -> floating point number\n",
      " |  \n",
      " |  Convert a string or number to a floating point number, if possible.\n",
      " |  \n",
      " |  Methods defined here:\n",
      " |  \n",
      " |  __abs__(self, /)\n",
      " |      abs(self)\n",
      " |  \n",
      " |  __add__(self, value, /)\n",
      " |      Return self+value.\n",
      " |  \n",
      " |  __bool__(self, /)\n",
      " |      self != 0\n",
      " |  \n",
      " |  __divmod__(self, value, /)\n",
      " |      Return divmod(self, value).\n",
      " |  \n",
      " |  __eq__(self, value, /)\n",
      " |      Return self==value.\n",
      " |  \n",
      " |  __float__(self, /)\n",
      " |      float(self)\n",
      " |  \n",
      " |  __floordiv__(self, value, /)\n",
      " |      Return self//value.\n",
      " |  \n",
      " |  __format__(...)\n",
      " |      float.__format__(format_spec) -> string\n",
      " |      \n",
      " |      Formats the float according to format_spec.\n",
      " |  \n",
      " |  __ge__(self, value, /)\n",
      " |      Return self>=value.\n",
      " |  \n",
      " |  __getattribute__(self, name, /)\n",
      " |      Return getattr(self, name).\n",
      " |  \n",
      " |  __getformat__(...) from builtins.type\n",
      " |      float.__getformat__(typestr) -> string\n",
      " |      \n",
      " |      You probably don't want to use this function.  It exists mainly to be\n",
      " |      used in Python's test suite.\n",
      " |      \n",
      " |      typestr must be 'double' or 'float'.  This function returns whichever of\n",
      " |      'unknown', 'IEEE, big-endian' or 'IEEE, little-endian' best describes the\n",
      " |      format of floating point numbers used by the C type named by typestr.\n",
      " |  \n",
      " |  __getnewargs__(...)\n",
      " |  \n",
      " |  __gt__(self, value, /)\n",
      " |      Return self>value.\n",
      " |  \n",
      " |  __hash__(self, /)\n",
      " |      Return hash(self).\n",
      " |  \n",
      " |  __int__(self, /)\n",
      " |      int(self)\n",
      " |  \n",
      " |  __le__(self, value, /)\n",
      " |      Return self<=value.\n",
      " |  \n",
      " |  __lt__(self, value, /)\n",
      " |      Return self<value.\n",
      " |  \n",
      " |  __mod__(self, value, /)\n",
      " |      Return self%value.\n",
      " |  \n",
      " |  __mul__(self, value, /)\n",
      " |      Return self*value.\n",
      " |  \n",
      " |  __ne__(self, value, /)\n",
      " |      Return self!=value.\n",
      " |  \n",
      " |  __neg__(self, /)\n",
      " |      -self\n",
      " |  \n",
      " |  __new__(*args, **kwargs) from builtins.type\n",
      " |      Create and return a new object.  See help(type) for accurate signature.\n",
      " |  \n",
      " |  __pos__(self, /)\n",
      " |      +self\n",
      " |  \n",
      " |  __pow__(self, value, mod=None, /)\n",
      " |      Return pow(self, value, mod).\n",
      " |  \n",
      " |  __radd__(self, value, /)\n",
      " |      Return value+self.\n",
      " |  \n",
      " |  __rdivmod__(self, value, /)\n",
      " |      Return divmod(value, self).\n",
      " |  \n",
      " |  __repr__(self, /)\n",
      " |      Return repr(self).\n",
      " |  \n",
      " |  __rfloordiv__(self, value, /)\n",
      " |      Return value//self.\n",
      " |  \n",
      " |  __rmod__(self, value, /)\n",
      " |      Return value%self.\n",
      " |  \n",
      " |  __rmul__(self, value, /)\n",
      " |      Return value*self.\n",
      " |  \n",
      " |  __round__(...)\n",
      " |      Return the Integral closest to x, rounding half toward even.\n",
      " |      When an argument is passed, work like built-in round(x, ndigits).\n",
      " |  \n",
      " |  __rpow__(self, value, mod=None, /)\n",
      " |      Return pow(value, self, mod).\n",
      " |  \n",
      " |  __rsub__(self, value, /)\n",
      " |      Return value-self.\n",
      " |  \n",
      " |  __rtruediv__(self, value, /)\n",
      " |      Return value/self.\n",
      " |  \n",
      " |  __setformat__(...) from builtins.type\n",
      " |      float.__setformat__(typestr, fmt) -> None\n",
      " |      \n",
      " |      You probably don't want to use this function.  It exists mainly to be\n",
      " |      used in Python's test suite.\n",
      " |      \n",
      " |      typestr must be 'double' or 'float'.  fmt must be one of 'unknown',\n",
      " |      'IEEE, big-endian' or 'IEEE, little-endian', and in addition can only be\n",
      " |      one of the latter two if it appears to match the underlying C reality.\n",
      " |      \n",
      " |      Override the automatic determination of C-level floating point type.\n",
      " |      This affects how floats are converted to and from binary strings.\n",
      " |  \n",
      " |  __str__(self, /)\n",
      " |      Return str(self).\n",
      " |  \n",
      " |  __sub__(self, value, /)\n",
      " |      Return self-value.\n",
      " |  \n",
      " |  __truediv__(self, value, /)\n",
      " |      Return self/value.\n",
      " |  \n",
      " |  __trunc__(...)\n",
      " |      Return the Integral closest to x between 0 and x.\n",
      " |  \n",
      " |  as_integer_ratio(...)\n",
      " |      float.as_integer_ratio() -> (int, int)\n",
      " |      \n",
      " |      Return a pair of integers, whose ratio is exactly equal to the original\n",
      " |      float and with a positive denominator.\n",
      " |      Raise OverflowError on infinities and a ValueError on NaNs.\n",
      " |      \n",
      " |      >>> (10.0).as_integer_ratio()\n",
      " |      (10, 1)\n",
      " |      >>> (0.0).as_integer_ratio()\n",
      " |      (0, 1)\n",
      " |      >>> (-.25).as_integer_ratio()\n",
      " |      (-1, 4)\n",
      " |  \n",
      " |  conjugate(...)\n",
      " |      Return self, the complex conjugate of any float.\n",
      " |  \n",
      " |  fromhex(...) from builtins.type\n",
      " |      float.fromhex(string) -> float\n",
      " |      \n",
      " |      Create a floating-point number from a hexadecimal string.\n",
      " |      >>> float.fromhex('0x1.ffffp10')\n",
      " |      2047.984375\n",
      " |      >>> float.fromhex('-0x1p-1074')\n",
      " |      -5e-324\n",
      " |  \n",
      " |  hex(...)\n",
      " |      float.hex() -> string\n",
      " |      \n",
      " |      Return a hexadecimal representation of a floating-point number.\n",
      " |      >>> (-0.1).hex()\n",
      " |      '-0x1.999999999999ap-4'\n",
      " |      >>> 3.14159.hex()\n",
      " |      '0x1.921f9f01b866ep+1'\n",
      " |  \n",
      " |  is_integer(...)\n",
      " |      Return True if the float is an integer.\n",
      " |  \n",
      " |  ----------------------------------------------------------------------\n",
      " |  Data descriptors defined here:\n",
      " |  \n",
      " |  imag\n",
      " |      the imaginary part of a complex number\n",
      " |  \n",
      " |  real\n",
      " |      the real part of a complex number\n",
      "\n"
     ]
    }
   ],
   "source": [
    "help(sys.float_info.epsilon)"
   ]
  },
  {
   "cell_type": "markdown",
   "metadata": {},
   "source": [
    "#### Converting to Integers\n",
    "\n",
    "Python also provides the [``int()``](https://docs.python.org/3/library/functions.html#int) for converting numbers or strings to integers. \n"
   ]
  },
  {
   "cell_type": "code",
   "execution_count": 4,
   "metadata": {},
   "outputs": [
    {
     "name": "stdout",
     "output_type": "stream",
     "text": [
      "4\n",
      "67\n"
     ]
    }
   ],
   "source": [
    "print(int(4.8))\n",
    "print(int('67'))"
   ]
  },
  {
   "cell_type": "code",
   "execution_count": 5,
   "metadata": {},
   "outputs": [
    {
     "ename": "ValueError",
     "evalue": "invalid literal for int() with base 10: 'hello'",
     "output_type": "error",
     "traceback": [
      "\u001b[0;31m---------------------------------------------------------------------------\u001b[0m",
      "\u001b[0;31mValueError\u001b[0m                                Traceback (most recent call last)",
      "\u001b[0;32m<ipython-input-5-5de9e1e8bf38>\u001b[0m in \u001b[0;36m<module>\u001b[0;34m()\u001b[0m\n\u001b[0;32m----> 1\u001b[0;31m \u001b[0mprint\u001b[0m\u001b[0;34m(\u001b[0m\u001b[0mint\u001b[0m\u001b[0;34m(\u001b[0m\u001b[0;34m'hello'\u001b[0m\u001b[0;34m)\u001b[0m\u001b[0;34m)\u001b[0m\u001b[0;34m\u001b[0m\u001b[0m\n\u001b[0m",
      "\u001b[0;31mValueError\u001b[0m: invalid literal for int() with base 10: 'hello'"
     ]
    }
   ],
   "source": [
    "print(int('hello'))"
   ]
  },
  {
   "cell_type": "markdown",
   "metadata": {},
   "source": [
    "### Floating Point Numbers\n",
    "\n",
    "Representing approximations of real numbers via floating point types is more complex, but the issue is the same: we only have so many bits to allocate to represent the number. Consequently floating point numbers are inherently **approximations.**\n",
    "\n",
    "``sys.float_info`` contains information about the limits of floating point numbers.\n",
    "\n",
    "*  See [Floating Point Arithmetic: Issues and Limitations](http://docs.python.org/3/tutorial/floatingpoint.html)\n",
    "*  Also [The Perils of Floating Point](http://www.lahey.com/float.htm)\n",
    "* Floating point numbers are coded by typing them as decimals"
   ]
  },
  {
   "cell_type": "code",
   "execution_count": 6,
   "metadata": {},
   "outputs": [
    {
     "name": "stdout",
     "output_type": "stream",
     "text": [
      "<class 'int'>\n",
      "<class 'float'>\n",
      "<class 'float'>\n"
     ]
    }
   ],
   "source": [
    "print(type(4))\n",
    "print(type(4.))\n",
    "print(type(4.0))"
   ]
  },
  {
   "cell_type": "markdown",
   "metadata": {},
   "source": [
    "Floating point numbers can also be typed in *exponential form.*"
   ]
  },
  {
   "cell_type": "code",
   "execution_count": 7,
   "metadata": {},
   "outputs": [
    {
     "name": "stdout",
     "output_type": "stream",
     "text": [
      "40.0\n",
      "40.0\n"
     ]
    }
   ],
   "source": [
    "print(4e1)\n",
    "print(4E1)\n"
   ]
  },
  {
   "cell_type": "markdown",
   "metadata": {},
   "source": [
    "## Generating Floats\n",
    "\n",
    "* Floats can also be generated by dividing two integers.\n",
    "\n",
    "* Similar to the ``int()`` function, Python provides a [``float``](https://docs.python.org/3/library/functions.html#float) function that will take a number or a string and convert it to a float.\n"
   ]
  },
  {
   "cell_type": "code",
   "execution_count": 8,
   "metadata": {},
   "outputs": [
    {
     "name": "stdout",
     "output_type": "stream",
     "text": [
      "3.0\n",
      "5.0\n",
      "5.0\n"
     ]
    },
    {
     "ename": "ValueError",
     "evalue": "could not convert string to float: 'five'",
     "output_type": "error",
     "traceback": [
      "\u001b[0;31m---------------------------------------------------------------------------\u001b[0m",
      "\u001b[0;31mValueError\u001b[0m                                Traceback (most recent call last)",
      "\u001b[0;32m<ipython-input-8-54d02b16ddd9>\u001b[0m in \u001b[0;36m<module>\u001b[0;34m()\u001b[0m\n\u001b[1;32m      2\u001b[0m \u001b[0mprint\u001b[0m\u001b[0;34m(\u001b[0m\u001b[0mfloat\u001b[0m\u001b[0;34m(\u001b[0m\u001b[0;36m5\u001b[0m\u001b[0;34m)\u001b[0m\u001b[0;34m)\u001b[0m\u001b[0;34m\u001b[0m\u001b[0m\n\u001b[1;32m      3\u001b[0m \u001b[0mprint\u001b[0m\u001b[0;34m(\u001b[0m\u001b[0mfloat\u001b[0m\u001b[0;34m(\u001b[0m\u001b[0;34m'5'\u001b[0m\u001b[0;34m)\u001b[0m\u001b[0;34m)\u001b[0m\u001b[0;34m\u001b[0m\u001b[0m\n\u001b[0;32m----> 4\u001b[0;31m \u001b[0mprint\u001b[0m\u001b[0;34m(\u001b[0m\u001b[0mfloat\u001b[0m\u001b[0;34m(\u001b[0m\u001b[0;34m'five'\u001b[0m\u001b[0;34m)\u001b[0m\u001b[0;34m)\u001b[0m\u001b[0;34m\u001b[0m\u001b[0m\n\u001b[0m",
      "\u001b[0;31mValueError\u001b[0m: could not convert string to float: 'five'"
     ]
    }
   ],
   "source": [
    "print(9/3)\n",
    "print(float(5))\n",
    "print(float('5'))\n",
    "print(float('five'))"
   ]
  },
  {
   "cell_type": "code",
   "execution_count": null,
   "metadata": {
    "collapsed": true
   },
   "outputs": [],
   "source": []
  },
  {
   "cell_type": "markdown",
   "metadata": {},
   "source": [
    "# Biomedical Data and Python Data Types\n",
    "### What would be the appropriate data type (Integer, Float, String) for the following quantities?\n",
    "\n",
    "* Patient pulse as recorded at a clinic visit\n",
    "* Patient blood pressure \n",
    "* My medical record number \n",
    "* Signal measured in an MRI scanner \n",
    "* Average breaths per minute over an hour\n",
    "* The length of a tibia \n",
    "* My weight in kilograms \n",
    "* Days since last menustral period \n",
    "* DNA sequence "
   ]
  },
  {
   "cell_type": "markdown",
   "metadata": {},
   "source": [
    "## What can we do with numbers?\n",
    "\n",
    "### Create expressions with basic arithmetic operators\n",
    "\n",
    "* **\"+\"** addition\n",
    "* **\"-\"** subtraction\n",
    "* **\"*\"** multiplication\n",
    "* **\"/\"** division (also \"//\")\n",
    "* **\"%\"** modulus\n",
    "* **\"\\*\\*\"** exponentiation\n",
    "\n",
    "### Compare numbers\n",
    "* **\"==\"** equal to **(this will be a frequent mistake)**\n",
    "* **\"!=\"** not equal to\n",
    "* **\"<\"** less than\n",
    "* **\"<=\"** less than or equal to\n",
    "* **\">\"** greater than\n",
    "* **\">=** greater than or equal to"
   ]
  },
  {
   "cell_type": "code",
   "execution_count": 10,
   "metadata": {},
   "outputs": [
    {
     "name": "stdout",
     "output_type": "stream",
     "text": [
      "8 <class 'int'>\n",
      "2 <class 'int'>\n",
      "15 <class 'int'>\n",
      "1.6666666666666667 <class 'float'>\n",
      "2 <class 'int'>\n",
      "931322574615478515625 <class 'int'>\n",
      "0.5999999999999996 <class 'float'>\n",
      "13.5\n",
      "False\n",
      "True\n",
      "5>4 True\n"
     ]
    }
   ],
   "source": [
    "print (5+3,type(5+3))\n",
    "print (5-3,type(5-3))\n",
    "print (5*3,type(5*3))\n",
    "print (5/3,type(5/3)) \n",
    "print (5%3 ,type(5%3))\n",
    "print (5**30 ,type(5**30))\n",
    "print(4.6%2,type(4.3%2))\n",
    "print(4.5*3)\n",
    "\n",
    "print (5== 4)\n",
    "print(5>4)\n",
    "print(\"5>4\",5>4)"
   ]
  },
  {
   "cell_type": "code",
   "execution_count": 12,
   "metadata": {},
   "outputs": [
    {
     "name": "stdout",
     "output_type": "stream",
     "text": [
      "False\n"
     ]
    }
   ],
   "source": [
    "print(5==4)"
   ]
  },
  {
   "cell_type": "markdown",
   "metadata": {},
   "source": [
    "### Python Operators Have Orders of Precedence"
   ]
  },
  {
   "cell_type": "markdown",
   "metadata": {},
   "source": [
    "If you recall from mathematics, mathematical operators have order of precedence, that is which operator must be applied first. For example, in the equation \"$5\\times4-3$\" would this be calculated as $20-3$ or $5\\times1$?\n",
    "\n",
    "Python's order of precedence is described [here](https://docs.python.org/3/reference/expressions.html). Expressions that have equal precedence are ordered from left to right."
   ]
  },
  {
   "cell_type": "code",
   "execution_count": 13,
   "metadata": {},
   "outputs": [
    {
     "name": "stdout",
     "output_type": "stream",
     "text": [
      "7.5\n",
      "7.5\n"
     ]
    }
   ],
   "source": [
    "print(5*3/2)\n",
    "print(5/2*3)"
   ]
  },
  {
   "cell_type": "markdown",
   "metadata": {},
   "source": [
    "#### What happens when you mix types?"
   ]
  },
  {
   "cell_type": "code",
   "execution_count": 15,
   "metadata": {},
   "outputs": [
    {
     "name": "stdout",
     "output_type": "stream",
     "text": [
      "Help on built-in function eval in module builtins:\n",
      "\n",
      "eval(source, globals=None, locals=None, /)\n",
      "    Evaluate the given source in the context of globals and locals.\n",
      "    \n",
      "    The source may be a string representing a Python expression\n",
      "    or a code object as returned by compile().\n",
      "    The globals must be a dictionary and locals can be any mapping,\n",
      "    defaulting to the current globals and locals.\n",
      "    If only globals is given, locals defaults to it.\n",
      "\n"
     ]
    }
   ],
   "source": [
    "help(eval)"
   ]
  },
  {
   "cell_type": "code",
   "execution_count": 14,
   "metadata": {},
   "outputs": [
    {
     "name": "stdout",
     "output_type": "stream",
     "text": [
      "8 <class 'int'>\n"
     ]
    }
   ],
   "source": [
    "expr = \"5+3\"\n",
    "print(eval(expr),type(eval(expr)))\n"
   ]
  },
  {
   "cell_type": "markdown",
   "metadata": {},
   "source": [
    "#### What is the Rule?"
   ]
  },
  {
   "cell_type": "markdown",
   "metadata": {},
   "source": [
    " Python also provides a [``round``](https://docs.python.org/3/library/functions.html#round) function for floats."
   ]
  },
  {
   "cell_type": "markdown",
   "metadata": {},
   "source": [
    "#### Note Behavior of *round*. "
   ]
  },
  {
   "cell_type": "code",
   "execution_count": 17,
   "metadata": {},
   "outputs": [
    {
     "name": "stdout",
     "output_type": "stream",
     "text": [
      "5 <class 'int'>\n"
     ]
    }
   ],
   "source": [
    "print(round(5.2),type(round(5.7)))\n"
   ]
  },
  {
   "cell_type": "markdown",
   "metadata": {},
   "source": [
    "### Comparison Operators for Numbers\n",
    "* **\"==\"** equal to **(this will be a frequent mistake)**\n",
    "* **\"!=\"** not equal to\n",
    "* **\"<\"** less than\n",
    "* **\"<=\"** less than or equal to\n",
    "* **\">\"** greater than\n",
    "* **\">=** greater than or equal to"
   ]
  },
  {
   "cell_type": "markdown",
   "metadata": {},
   "source": [
    "## Exercise\n",
    "\n",
    "Use Python as a calculator to compute the following value:\n",
    "\n",
    "\\begin{equation}\n",
    "\\frac{(5\\times 3^3-2)^2}{4\\times 3+1}\n",
    "\\end{equation}"
   ]
  },
  {
   "cell_type": "code",
   "execution_count": 18,
   "metadata": {},
   "outputs": [
    {
     "name": "stdout",
     "output_type": "stream",
     "text": [
      "1360.6923076923076\n"
     ]
    }
   ],
   "source": [
    "print((5*3**3-2)**2/(4*3+1))"
   ]
  },
  {
   "cell_type": "code",
   "execution_count": 19,
   "metadata": {},
   "outputs": [
    {
     "ename": "NameError",
     "evalue": "name 'numeric_quizz1' is not defined",
     "output_type": "error",
     "traceback": [
      "\u001b[0;31m---------------------------------------------------------------------------\u001b[0m",
      "\u001b[0;31mNameError\u001b[0m                                 Traceback (most recent call last)",
      "\u001b[0;32m<ipython-input-19-b012d7e7951f>\u001b[0m in \u001b[0;36m<module>\u001b[0;34m()\u001b[0m\n\u001b[0;32m----> 1\u001b[0;31m \u001b[0mnumeric_quizz1\u001b[0m\u001b[0;34m(\u001b[0m\u001b[0;36m1360.6923076923076\u001b[0m\u001b[0;34m)\u001b[0m\u001b[0;34m\u001b[0m\u001b[0m\n\u001b[0m",
      "\u001b[0;31mNameError\u001b[0m: name 'numeric_quizz1' is not defined"
     ]
    }
   ],
   "source": [
    "numeric_quizz1(1360.6923076923076)"
   ]
  },
  {
   "cell_type": "code",
   "execution_count": null,
   "metadata": {
    "collapsed": true
   },
   "outputs": [],
   "source": []
  },
  {
   "cell_type": "markdown",
   "metadata": {},
   "source": [
    "## Exercise\n",
    "\n",
    "\\begin{equation}\n",
    "7^{\\frac{1}{2}}\\times\\frac{4}{3} < \\frac{3^2\\times\\frac{3}{4}}{1+2^2}\n",
    "\\end{equation}"
   ]
  },
  {
   "cell_type": "code",
   "execution_count": null,
   "metadata": {
    "collapsed": true
   },
   "outputs": [],
   "source": [
    "numeric_quizz2(\"replace_me_with_True_or_False\")"
   ]
  },
  {
   "cell_type": "code",
   "execution_count": null,
   "metadata": {
    "collapsed": true
   },
   "outputs": [],
   "source": [
    "def numeric_quizz2(answer):\n",
    "    if not isinstance(answer,bool):\n",
    "        return \"Your answer needs to be the Python value True or False. You provided the type %s\"%type(answer)\n",
    "    try:\n",
    "        assert_equal(answer, 7**(0.5)*(4/3) < (3**2*(3/4))/(1+2**2))\n",
    "        return \"You got the correct answer\"\n",
    "    except Exception as error:\n",
    "        return \"You did not get the correct answer. Pay attention to parentheses and operator precedence: %s\"%error\n"
   ]
  },
  {
   "cell_type": "code",
   "execution_count": 21,
   "metadata": {},
   "outputs": [
    {
     "name": "stdout",
     "output_type": "stream",
     "text": [
      "False\n"
     ]
    }
   ],
   "source": [
    "print(7**(1/2)*4/3 < (3**2*3/4)/(1+2**2))"
   ]
  },
  {
   "cell_type": "markdown",
   "metadata": {},
   "source": [
    "# Some Important Numeric Libraries\n",
    "\n",
    "## [math](http://docs.python.org/3/library/math.html)\n",
    "* Additional mathematical functions and constants\n",
    "* Functions and constants are accessed via the **dot notation**."
   ]
  },
  {
   "cell_type": "markdown",
   "metadata": {},
   "source": [
    "## Exercise\n",
    "\n",
    "Use the ``math`` library to compute the following value\n",
    "\n",
    "\\begin{equation}\n",
    "e^{-5^2\\times cos(\\frac{3\\pi}{7})}\n",
    "\\end{equation}"
   ]
  },
  {
   "cell_type": "code",
   "execution_count": 22,
   "metadata": {},
   "outputs": [
    {
     "name": "stdout",
     "output_type": "stream",
     "text": [
      "0.0038371577761156625\n"
     ]
    }
   ],
   "source": [
    "import math\n",
    "print(math.e**(-5**2*math.cos(3*math.pi/7)))"
   ]
  },
  {
   "cell_type": "code",
   "execution_count": null,
   "metadata": {
    "collapsed": true
   },
   "outputs": [],
   "source": []
  },
  {
   "cell_type": "code",
   "execution_count": 23,
   "metadata": {},
   "outputs": [
    {
     "ename": "NameError",
     "evalue": "name 'numeric_quizz3' is not defined",
     "output_type": "error",
     "traceback": [
      "\u001b[0;31m---------------------------------------------------------------------------\u001b[0m",
      "\u001b[0;31mNameError\u001b[0m                                 Traceback (most recent call last)",
      "\u001b[0;32m<ipython-input-23-794614732191>\u001b[0m in \u001b[0;36m<module>\u001b[0;34m()\u001b[0m\n\u001b[0;32m----> 1\u001b[0;31m \u001b[0mnumeric_quizz3\u001b[0m\u001b[0;34m(\u001b[0m\u001b[0;36m0.0038371577761156625\u001b[0m\u001b[0;34m)\u001b[0m\u001b[0;34m\u001b[0m\u001b[0m\n\u001b[0m",
      "\u001b[0;31mNameError\u001b[0m: name 'numeric_quizz3' is not defined"
     ]
    }
   ],
   "source": [
    "numeric_quizz3(0.0038371577761156625)"
   ]
  },
  {
   "cell_type": "code",
   "execution_count": 29,
   "metadata": {},
   "outputs": [
    {
     "name": "stdout",
     "output_type": "stream",
     "text": [
      "8\n",
      "<class 'bool'>\n"
     ]
    }
   ],
   "source": [
    "x=6\n",
    "print (x + 2)\n",
    "print (type(True))"
   ]
  },
  {
   "cell_type": "code",
   "execution_count": null,
   "metadata": {
    "collapsed": true
   },
   "outputs": [],
   "source": [
    "import numpy as np"
   ]
  },
  {
   "cell_type": "markdown",
   "metadata": {},
   "source": [
    "## [Numpy](http://www.numpy.org/)\n",
    "\n",
    "Numpy arrays are collections of numbers that can be manipulated efficiently. The arrays have a *type* that specifies what the underlying representation of the number is. These types include the following integers:\n",
    "\n",
    "* uint8 (unsigned integer represented with 8 bits)\n",
    "* uint16 (unsigned integer represented with 16 bits)\n",
    "* uint32 (unsigned integer represented with 32 bits)\n",
    "* uint64 (unsigned integer represented with 64 bits)\n",
    "* int8 (signed integer represented with 8 bits)\n",
    "* int16 (signed integer represented with 16 bits)\n",
    "* int32 (signed integer represented with 32 bits)\n",
    "* int64 (signed integer represented with 64 bits)\n",
    "\n",
    "### What is up with all these different types?\n",
    "* Memory allocation\n",
    "    * If you have a very big array, memory constraints might come into play\n",
    "* Computational efficiency\n",
    "    * What size matches the underlying hardware?\n",
    "    \n",
    "### How do we create numpy arrays?\n",
    "\n",
    "```Python\n",
    "import numpy as np # conventional alias for numpy\n",
    "\n",
    "array1 = np.ones((3,3)) # create a 3x3 array of ones\n",
    "array2 = np.zeros((4,2)) # create an array of zeros with 4 rows and 2 columns\n",
    "array3 = np.array([[1,0],[0,1]], dtype=np.uint8)\n",
    "```\n",
    "\n",
    "* ``dtype`` stands for \"data type\". If we don't provide a value, Numpy will choose a \"sensible\" value based on the array values provided."
   ]
  },
  {
   "cell_type": "markdown",
   "metadata": {},
   "source": [
    "* Maximum integer size\n",
    "    * What is the minimum and maximum integer that can be represented with a uint8 and a int8?\n",
    "    "
   ]
  },
  {
   "cell_type": "code",
   "execution_count": 36,
   "metadata": {},
   "outputs": [
    {
     "data": {
      "text/plain": [
       "array([-126], dtype=int8)"
      ]
     },
     "execution_count": 36,
     "metadata": {},
     "output_type": "execute_result"
    }
   ],
   "source": [
    "import numpy as np\n",
    "np.array([-126,], dtype=np.int8)"
   ]
  },
  {
   "cell_type": "code",
   "execution_count": 47,
   "metadata": {},
   "outputs": [
    {
     "name": "stdout",
     "output_type": "stream",
     "text": [
      "[[ 1  2]\n",
      " [10 11]\n",
      " [ 3  4]]\n",
      "(3, 2)\n",
      "[[1 2 3]\n",
      " [4 5 6]]\n",
      "<class 'numpy.ndarray'>\n"
     ]
    }
   ],
   "source": [
    "import numpy as np\n",
    "a = np.array([[1,2],[10,11], [3,4]])\n",
    "print(a)\n",
    "print (a.shape)\n",
    "b = np.array([[1,2,3],[4,5,6]])\n",
    "print (b)\n",
    "print (type(b))\n"
   ]
  },
  {
   "cell_type": "code",
   "execution_count": 43,
   "metadata": {},
   "outputs": [
    {
     "name": "stdout",
     "output_type": "stream",
     "text": [
      "[[1 0]\n",
      " [0 1]]\n",
      "*****\n",
      "[[ 1.  1.  1.]\n",
      " [ 1.  1.  1.]\n",
      " [ 1.  1.  1.]]\n",
      "<class 'numpy.ndarray'>\n",
      "[[ 0.  0.]\n",
      " [ 0.  0.]\n",
      " [ 0.  0.]\n",
      " [ 0.  0.]]\n"
     ]
    }
   ],
   "source": [
    "array3 = np.array([[1,0],[0,1]], dtype=np.uint8)\n",
    "print (array3)\n",
    "print (\"*\"*5)\n",
    "array1 = np.ones((3,3))\n",
    "print (array1)\n",
    "print (type(array1))\n",
    "array2 = np.zeros((4,2))\n",
    "print (array2)\n"
   ]
  },
  {
   "cell_type": "code",
   "execution_count": 56,
   "metadata": {},
   "outputs": [
    {
     "name": "stdout",
     "output_type": "stream",
     "text": [
      "(2, 2)\n",
      "[[ 0.60182453  0.84538813]\n",
      " [ 0.68601369  0.43477924]]\n"
     ]
    }
   ],
   "source": [
    "e = np.random.random((2,2)) \n",
    "print (e.shape)\n",
    "print (e)"
   ]
  },
  {
   "cell_type": "code",
   "execution_count": 53,
   "metadata": {},
   "outputs": [
    {
     "name": "stdout",
     "output_type": "stream",
     "text": [
      "[[ 1.  0.  0.]\n",
      " [ 0.  1.  0.]\n",
      " [ 0.  0.  1.]]\n"
     ]
    }
   ],
   "source": [
    "d = np.eye(3)\n",
    "print (d)"
   ]
  },
  {
   "cell_type": "markdown",
   "metadata": {},
   "source": [
    "### Boolean Operations on Numpy Arrays"
   ]
  },
  {
   "cell_type": "code",
   "execution_count": null,
   "metadata": {
    "collapsed": true
   },
   "outputs": [],
   "source": [
    "2**8"
   ]
  },
  {
   "cell_type": "code",
   "execution_count": null,
   "metadata": {
    "collapsed": true
   },
   "outputs": [],
   "source": [
    "b = np.zeros((4,2))"
   ]
  },
  {
   "cell_type": "code",
   "execution_count": null,
   "metadata": {
    "collapsed": true
   },
   "outputs": [],
   "source": [
    "b.shape"
   ]
  },
  {
   "cell_type": "code",
   "execution_count": null,
   "metadata": {
    "collapsed": true
   },
   "outputs": [],
   "source": []
  }
 ],
 "metadata": {
  "kernelspec": {
   "display_name": "Python 3",
   "language": "python",
   "name": "python3"
  },
  "language_info": {
   "codemirror_mode": {
    "name": "ipython",
    "version": 3
   },
   "file_extension": ".py",
   "mimetype": "text/x-python",
   "name": "python",
   "nbconvert_exporter": "python",
   "pygments_lexer": "ipython3",
   "version": "3.5.2"
  }
 },
 "nbformat": 4,
 "nbformat_minor": 1
}
