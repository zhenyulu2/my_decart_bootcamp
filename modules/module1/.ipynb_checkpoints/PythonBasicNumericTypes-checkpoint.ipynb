{
 "cells": [
  {
   "cell_type": "markdown",
   "metadata": {},
   "source": [
    "<html>\n",
    "<table width=\"100%\" cellspacing=\"2\" cellpadding=\"2\" border=\"1\">\n",
    "<tbody>\n",
    "<tr>\n",
    "<td valign=\"center\" align=\"center\" width=\"25%\"><img src=\"../../media/decartes.jpg\"\n",
    "alt=\"DeCART Icon\" width=\"128\" height=\"171\"><br>\n",
    "</td>\n",
    "<td valign=\"center\" align=\"center\" width=\"75%\">\n",
    "<h1 align=\"center\"><font size=\"+3\">DeCART Summer School<br>\n",
    "for<br>\n",
    "Biomedical Data Science</font></h1></td>\n",
    "<td valign=\"center\" align=\"center\" width=\"25%\"><img\n",
    "src=\"../../media/U_Health_stacked_png_red.png\" alt=\"Utah Health\n",
    "Logo\" width=\"128\" height=\"134\"><br>\n",
    "</td>\n",
    "</tr>\n",
    "</tbody>\n",
    "</table>\n",
    "<br>\n",
    "</html>\n"
   ]
  },
  {
   "cell_type": "markdown",
   "metadata": {},
   "source": [
    "#  Numerics\n",
    "\n",
    "There are multiple types of numbers, each arising from different uses that generated them.\n",
    "\n",
    ">Numbers arose from the formalization of two different human-cognitive conceptions: counting and measurement. Based on fossil records, anthropologists believe that both concepts existed and were used many thousands of years before numbers were introduced. As early as 35,000 years ago, humans put notches into bones (and probably wooden sticks as well, but none have survived and been found) to record things---possibly the cycles of the moon or the seasons---and it seems probable they used sticks or lengths of vine to measure lengths. Numbers themselves, however---abstractions that stand for the number of notches on a bone or the length of a measuring device---appear to have first appeared much later, around 10,000 years ago in the case of counting collections. \n",
    ">\n",
    ">These activities resulted in two different kinds of number: the discrete counting numbers and the continuous real numbers. The connection between these two kinds of numbers was not finally put onto a firm footing until the nineteenth century, with the construction of the modern real number system. (Keith Devlin *Introduction to Mathematical Thinking*, p. 75) \n",
    "\n",
    "There are more than two types of numbers (see [Peter Alfeld's page](http://www.math.utah.edu/~pa/math/numbers.html)) and Python has two distinct types of numbers (five really, but we're going to ignore types 3, 4, and 5). Before we get into Python, let's review differnt types of numbers and talk about how we can represent them in a computer.\n",
    "\n",
    "### To Simplify\n",
    "\n",
    "#### Counting Numbers (Integers)\n",
    "#### Measuring Numbers (Reals)"
   ]
  },
  {
   "cell_type": "markdown",
   "metadata": {},
   "source": [
    "#  Numerics\n",
    "## Two Python Numeric Types\n",
    "* Integers: **roughly corresponding** to the Integers ($\\mathbb{Z}$) of mathematics.\n",
    "* Floating Point Numbers: **roughly corresponding** to the Reals ($\\mathbb{R}$) of mathematics.\n",
    "\n",
    "\n",
    "### Why \"roughly corresponding\"?\n",
    "There are an infinitely many integers and real numbers. A computer consisting of a finite number of transitors cannot represent an infinite number of numbers, so there are design decisions that determine how large or small a number can be represented.\n"
   ]
  },
  {
   "cell_type": "markdown",
   "metadata": {},
   "source": [
    "### Python Integers"
   ]
  },
  {
   "cell_type": "code",
   "execution_count": null,
   "metadata": {
    "collapsed": true
   },
   "outputs": [],
   "source": [
    "import sys\n",
    "print(\"maximum float\",sys.float_info.max)\n",
    "print(\"minimum float\",sys.float_info.min)\n",
    "print(\"epislon\",sys.float_info.epsilon)"
   ]
  },
  {
   "cell_type": "code",
   "execution_count": null,
   "metadata": {
    "collapsed": true
   },
   "outputs": [],
   "source": [
    "dir()"
   ]
  },
  {
   "cell_type": "markdown",
   "metadata": {},
   "source": [
    "#### Converting to Integers\n",
    "\n",
    "Python also provides the [``int()``](https://docs.python.org/3/library/functions.html#int) for converting numbers or strings to integers. \n"
   ]
  },
  {
   "cell_type": "code",
   "execution_count": null,
   "metadata": {
    "collapsed": true
   },
   "outputs": [],
   "source": [
    "print(int(4.8))\n",
    "print(int('67'))"
   ]
  },
  {
   "cell_type": "code",
   "execution_count": null,
   "metadata": {
    "collapsed": true
   },
   "outputs": [],
   "source": [
    "print(int('hello'))"
   ]
  },
  {
   "cell_type": "markdown",
   "metadata": {},
   "source": [
    "### Floating Point Numbers\n",
    "\n",
    "Representing approximations of real numbers via floating point types is more complex, but the issue is the same: we only have so many bits to allocate to represent the number. Consequently floating point numbers are inherently **approximations.**\n",
    "\n",
    "``sys.float_info`` contains information about the limits of floating point numbers.\n",
    "\n",
    "*  See [Floating Point Arithmetic: Issues and Limitations](http://docs.python.org/3/tutorial/floatingpoint.html)\n",
    "*  Also [The Perils of Floating Point](http://www.lahey.com/float.htm)\n",
    "* Floating point numbers are coded by typing them as decimals"
   ]
  },
  {
   "cell_type": "code",
   "execution_count": null,
   "metadata": {
    "collapsed": true
   },
   "outputs": [],
   "source": [
    "print(type(4))\n",
    "print(type(4.))\n",
    "print(type(4.0))"
   ]
  },
  {
   "cell_type": "markdown",
   "metadata": {},
   "source": [
    "Floating point numbers can also be typed in *exponential form.*"
   ]
  },
  {
   "cell_type": "code",
   "execution_count": null,
   "metadata": {
    "collapsed": true
   },
   "outputs": [],
   "source": [
    "print(4e1)\n",
    "print(4E1)\n"
   ]
  },
  {
   "cell_type": "markdown",
   "metadata": {},
   "source": [
    "## Generating Floats\n",
    "\n",
    "* Floats can also be generated by dividing two integers.\n",
    "\n",
    "* Similar to the ``int()`` function, Python provides a [``float``](https://docs.python.org/3/library/functions.html#float) function that will take a number or a string and convert it to a float.\n"
   ]
  },
  {
   "cell_type": "code",
   "execution_count": null,
   "metadata": {
    "collapsed": true
   },
   "outputs": [],
   "source": [
    "print(9/3)\n",
    "print(float(5))\n",
    "print(float('5'))\n",
    "print(float('five'))"
   ]
  },
  {
   "cell_type": "code",
   "execution_count": null,
   "metadata": {
    "collapsed": true
   },
   "outputs": [],
   "source": []
  },
  {
   "cell_type": "markdown",
   "metadata": {},
   "source": [
    "# Biomedical Data and Python Data Types\n",
    "### What would be the appropriate data type (Integer, Float, String) for the following quantities?\n",
    "\n",
    "* Patient pulse as recorded at a clinic visit\n",
    "* Patient blood pressure \n",
    "* My medical record number \n",
    "* Signal measured in an MRI scanner \n",
    "* Average breaths per minute over an hour\n",
    "* The length of a tibia \n",
    "* My weight in kilograms \n",
    "* Days since last menustral period \n",
    "* DNA sequence "
   ]
  },
  {
   "cell_type": "markdown",
   "metadata": {},
   "source": [
    "## What can we do with numbers?\n",
    "\n",
    "### Create expressions with basic arithmetic operators\n",
    "\n",
    "* **\"+\"** addition\n",
    "* **\"-\"** subtraction\n",
    "* **\"*\"** multiplication\n",
    "* **\"/\"** division (also \"//\")\n",
    "* **\"%\"** modulus\n",
    "* **\"\\*\\*\"** exponentiation\n",
    "\n",
    "### Compare numbers\n",
    "* **\"==\"** equal to **(this will be a frequent mistake)**\n",
    "* **\"!=\"** not equal to\n",
    "* **\"<\"** less than\n",
    "* **\"<=\"** less than or equal to\n",
    "* **\">\"** greater than\n",
    "* **\">=** greater than or equal to"
   ]
  },
  {
   "cell_type": "code",
   "execution_count": null,
   "metadata": {
    "collapsed": true
   },
   "outputs": [],
   "source": [
    "print (5+3,type(5+3))\n",
    "print (5-3,type(5-3))\n",
    "print (5*3,type(5*3))\n",
    "print (5/3,type(5/3)) \n",
    "print (5%3 ,type(5%3))\n",
    "print (5**30 ,type(5**30))\n",
    "print(4.3%2,type(4.3%2))\n",
    "print(4.5*3)\n",
    "\n",
    "print (5== 4)\n",
    "print(5>4)\n",
    "print(\"5>4\",5>4)"
   ]
  },
  {
   "cell_type": "code",
   "execution_count": null,
   "metadata": {
    "collapsed": true
   },
   "outputs": [],
   "source": [
    "print(5=4)"
   ]
  },
  {
   "cell_type": "markdown",
   "metadata": {},
   "source": [
    "### Python Operators Have Orders of Precedence"
   ]
  },
  {
   "cell_type": "markdown",
   "metadata": {},
   "source": [
    "If you recall from mathematics, mathematical operators have order of precedence, that is which operator must be applied first. For example, in the equation \"$5\\times4-3$\" would this be calculated as $20-3$ or $5\\times1$?\n",
    "\n",
    "Python's order of precedence is described [here](https://docs.python.org/3/reference/expressions.html). Expressions that have equal precedence are ordered from left to right."
   ]
  },
  {
   "cell_type": "code",
   "execution_count": null,
   "metadata": {
    "collapsed": true
   },
   "outputs": [],
   "source": [
    "print(5*3/2)\n",
    "print(5/2*3)"
   ]
  },
  {
   "cell_type": "markdown",
   "metadata": {},
   "source": [
    "#### What happens when you mix types?"
   ]
  },
  {
   "cell_type": "code",
   "execution_count": null,
   "metadata": {
    "collapsed": true
   },
   "outputs": [],
   "source": [
    "expr = \"5+3\"\n",
    "print(eval(expr),type(eval(expr)))\n"
   ]
  },
  {
   "cell_type": "markdown",
   "metadata": {},
   "source": [
    "#### What is the Rule?"
   ]
  },
  {
   "cell_type": "markdown",
   "metadata": {},
   "source": [
    " Python also provides a [``round``](https://docs.python.org/3/library/functions.html#round) function for floats."
   ]
  },
  {
   "cell_type": "markdown",
   "metadata": {},
   "source": [
    "#### Note Behavior of *round*. "
   ]
  },
  {
   "cell_type": "code",
   "execution_count": null,
   "metadata": {
    "collapsed": true
   },
   "outputs": [],
   "source": [
    "print(round(5.7),type(round(5.7)))\n"
   ]
  },
  {
   "cell_type": "markdown",
   "metadata": {},
   "source": [
    "### Comparison Operators for Numbers\n",
    "* **\"==\"** equal to **(this will be a frequent mistake)**\n",
    "* **\"!=\"** not equal to\n",
    "* **\"<\"** less than\n",
    "* **\"<=\"** less than or equal to\n",
    "* **\">\"** greater than\n",
    "* **\">=** greater than or equal to"
   ]
  },
  {
   "cell_type": "markdown",
   "metadata": {},
   "source": [
    "## Exercise\n",
    "\n",
    "Use Python as a calculator to compute the following value:\n",
    "\n",
    "\\begin{equation}\n",
    "\\frac{(5\\times 3^3-2)^2}{4\\times 3+1}\n",
    "\\end{equation}"
   ]
  },
  {
   "cell_type": "code",
   "execution_count": null,
   "metadata": {
    "collapsed": true
   },
   "outputs": [],
   "source": []
  },
  {
   "cell_type": "code",
   "execution_count": null,
   "metadata": {
    "collapsed": true
   },
   "outputs": [],
   "source": [
    "numeric_quizz1(replace_me_with_the_numeric_answer)"
   ]
  },
  {
   "cell_type": "code",
   "execution_count": null,
   "metadata": {
    "collapsed": true
   },
   "outputs": [],
   "source": []
  },
  {
   "cell_type": "markdown",
   "metadata": {},
   "source": [
    "## Exercise\n",
    "\n",
    "\\begin{equation}\n",
    "7^{\\frac{1}{2}}\\times\\frac{4}{3} < \\frac{3^2\\times\\frac{3}{4}}{1+2^2}\n",
    "\\end{equation}"
   ]
  },
  {
   "cell_type": "code",
   "execution_count": null,
   "metadata": {
    "collapsed": true
   },
   "outputs": [],
   "source": [
    "numeric_quizz2(\"replace_me_with_True_or_False\")"
   ]
  },
  {
   "cell_type": "code",
   "execution_count": null,
   "metadata": {
    "collapsed": true
   },
   "outputs": [],
   "source": [
    "def numeric_quizz2(answer):\n",
    "    if not isinstance(answer,bool):\n",
    "        return \"Your answer needs to be the Python value True or False. You provided the type %s\"%type(answer)\n",
    "    try:\n",
    "        assert_equal(answer, 7**(0.5)*(4/3) < (3**2*(3/4))/(1+2**2))\n",
    "        return \"You got the correct answer\"\n",
    "    except Exception as error:\n",
    "        return \"You did not get the correct answer. Pay attention to parentheses and operator precedence: %s\"%error\n"
   ]
  },
  {
   "cell_type": "markdown",
   "metadata": {},
   "source": [
    "# Some Important Numeric Libraries\n",
    "\n",
    "## [math](http://docs.python.org/3/library/math.html)\n",
    "* Additional mathematical functions and constants\n",
    "* Functions and constants are accessed via the **dot notation**."
   ]
  },
  {
   "cell_type": "markdown",
   "metadata": {},
   "source": [
    "## Exercise\n",
    "\n",
    "Use the ``math`` library to compute the following value\n",
    "\n",
    "\\begin{equation}\n",
    "e^{-5^2\\times cos(\\frac{3\\pi}{7})}\n",
    "\\end{equation}"
   ]
  },
  {
   "cell_type": "code",
   "execution_count": null,
   "metadata": {
    "collapsed": true
   },
   "outputs": [],
   "source": []
  },
  {
   "cell_type": "code",
   "execution_count": null,
   "metadata": {
    "collapsed": true
   },
   "outputs": [],
   "source": []
  },
  {
   "cell_type": "code",
   "execution_count": null,
   "metadata": {
    "collapsed": true
   },
   "outputs": [],
   "source": [
    "numeric_quizz3(REPLACE_ME)"
   ]
  },
  {
   "cell_type": "markdown",
   "metadata": {},
   "source": [
    "## [Numpy](http://www.numpy.org/)\n",
    "\n",
    "Numpy arrays are collections of numbers that can be manipulated efficiently. The arrays have a *type* that specifies what the underlying representation of the number is. These types include the following integers:\n",
    "\n",
    "* uint8 (unsigned integer represented with 8 bits)\n",
    "* uint16 (unsigned integer represented with 16 bits)\n",
    "* uint32 (unsigned integer represented with 32 bits)\n",
    "* uint64 (unsigned integer represented with 64 bits)\n",
    "* int8 (signed integer represented with 8 bits)\n",
    "* int16 (signed integer represented with 16 bits)\n",
    "* int32 (signed integer represented with 32 bits)\n",
    "* int64 (signed integer represented with 64 bits)\n",
    "\n",
    "### What is up with all these different types?\n",
    "* Memory allocation\n",
    "    * If you have a very big array, memory constraints might come into play\n",
    "* Computational efficiency\n",
    "    * What size matches the underlying hardware?\n",
    "    \n",
    "### How do we create numpy arrays?\n",
    "\n",
    "```Python\n",
    "import numpy as np # conventional alias for numpy\n",
    "\n",
    "array1 = np.ones((3,3)) # create a 3x3 array of ones\n",
    "array2 = np.zeros((4,2)) # create an array of zeros with 4 rows and 2 columns\n",
    "array3 = np.array([[1,0],[0,1]], dtype=np.uint8)\n",
    "```\n",
    "\n",
    "* ``dtype`` stands for \"data type\". If we don't provide a value, Numpy will choose a \"sensible\" value based on the array values provided."
   ]
  },
  {
   "cell_type": "markdown",
   "metadata": {},
   "source": [
    "* Maximum integer size\n",
    "    * What is the minimum and maximum integer that can be represented with a uint8 and a int8?\n",
    "    "
   ]
  },
  {
   "cell_type": "code",
   "execution_count": null,
   "metadata": {
    "collapsed": true
   },
   "outputs": [],
   "source": [
    "import numpy as np\n",
    "np.array([-129,], dtype=np.int8)"
   ]
  },
  {
   "cell_type": "markdown",
   "metadata": {},
   "source": [
    "### Boolean Operations on Numpy Arrays"
   ]
  },
  {
   "cell_type": "code",
   "execution_count": null,
   "metadata": {
    "collapsed": true
   },
   "outputs": [],
   "source": [
    "2**8"
   ]
  },
  {
   "cell_type": "code",
   "execution_count": null,
   "metadata": {
    "collapsed": true
   },
   "outputs": [],
   "source": [
    "b = np.zeros((4,2))"
   ]
  },
  {
   "cell_type": "code",
   "execution_count": null,
   "metadata": {
    "collapsed": true
   },
   "outputs": [],
   "source": [
    "b.shape"
   ]
  },
  {
   "cell_type": "code",
   "execution_count": null,
   "metadata": {
    "collapsed": true
   },
   "outputs": [],
   "source": []
  }
 ],
 "metadata": {
  "kernelspec": {
   "display_name": "Python 3",
   "language": "python",
   "name": "python3"
  },
  "language_info": {
   "codemirror_mode": {
    "name": "ipython",
    "version": 3
   },
   "file_extension": ".py",
   "mimetype": "text/x-python",
   "name": "python",
   "nbconvert_exporter": "python",
   "pygments_lexer": "ipython3",
   "version": "3.5.2"
  }
 },
 "nbformat": 4,
 "nbformat_minor": 1
}
